{
  "nbformat": 4,
  "nbformat_minor": 0,
  "metadata": {
    "colab": {
      "name": "tf-neural-network-classification.ipynb",
      "provenance": [],
      "authorship_tag": "ABX9TyMB1APkkw7xPkMqgeldQ0Y2",
      "include_colab_link": true
    },
    "kernelspec": {
      "name": "python3",
      "display_name": "Python 3"
    },
    "language_info": {
      "name": "python"
    }
  },
  "cells": [
    {
      "cell_type": "markdown",
      "metadata": {
        "id": "view-in-github",
        "colab_type": "text"
      },
      "source": [
        "<a href=\"https://colab.research.google.com/github/koulkoudakis/tf-neural-network-classification/blob/main/tf_neural_network_classification.ipynb\" target=\"_parent\"><img src=\"https://colab.research.google.com/assets/colab-badge.svg\" alt=\"Open In Colab\"/></a>"
      ]
    },
    {
      "cell_type": "markdown",
      "metadata": {
        "id": "Iw5179N4uuiQ"
      },
      "source": [
        "# Introduction to Neural Network Classification with TensorFlow\n",
        "\n",
        "In this notebook, we will learn how to build neural networks for classification problems.\n",
        "\n",
        "Types of classification problems:\n",
        "* Binary classification\n",
        "* Multiclass classification\n",
        "* Multilabel classification"
      ]
    },
    {
      "cell_type": "code",
      "metadata": {
        "id": "qvdTI0wRvVkR"
      },
      "source": [
        ""
      ],
      "execution_count": null,
      "outputs": []
    }
  ]
}