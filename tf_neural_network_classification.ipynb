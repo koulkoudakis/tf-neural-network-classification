{
  "nbformat": 4,
  "nbformat_minor": 0,
  "metadata": {
    "colab": {
      "name": "tf-neural-network-classification.ipynb",
      "provenance": [],
      "collapsed_sections": [],
      "authorship_tag": "ABX9TyOsmL3UFmrTJ0nlm8yN3+jw",
      "include_colab_link": true
    },
    "kernelspec": {
      "name": "python3",
      "display_name": "Python 3"
    },
    "language_info": {
      "name": "python"
    }
  },
  "cells": [
    {
      "cell_type": "markdown",
      "metadata": {
        "id": "view-in-github",
        "colab_type": "text"
      },
      "source": [
        "<a href=\"https://colab.research.google.com/github/koulkoudakis/tf-neural-network-classification/blob/main/tf_neural_network_classification.ipynb\" target=\"_parent\"><img src=\"https://colab.research.google.com/assets/colab-badge.svg\" alt=\"Open In Colab\"/></a>"
      ]
    },
    {
      "cell_type": "markdown",
      "metadata": {
        "id": "Iw5179N4uuiQ"
      },
      "source": [
        "# Introduction to Neural Network Classification with TensorFlow\n",
        "\n",
        "In this notebook, we will learn how to build neural networks for classification problems.\n",
        "\n",
        "Types of classification problems:\n",
        "* Binary classification\n",
        "* Multiclass classification\n",
        "* Multilabel classification"
      ]
    },
    {
      "cell_type": "markdown",
      "metadata": {
        "id": "qvdTI0wRvVkR"
      },
      "source": [
        "## Creating data to view and fit"
      ]
    },
    {
      "cell_type": "code",
      "metadata": {
        "id": "XIL2tJiGkI2f"
      },
      "source": [
        "from sklearn.datasets import make_circles\n",
        "\n",
        "# Make 1000 examples\n",
        "n_samples = 1000\n",
        "\n",
        "# Create circles\n",
        "X, y = make_circles(n_samples,\n",
        "                    noise=0.03,\n",
        "                    random_state=18)"
      ],
      "execution_count": 1,
      "outputs": []
    },
    {
      "cell_type": "code",
      "metadata": {
        "colab": {
          "base_uri": "https://localhost:8080/"
        },
        "id": "aBir1XzykyGJ",
        "outputId": "a004097d-e294-42db-9f25-9f65775a149f"
      },
      "source": [
        "# Check features\n",
        "X"
      ],
      "execution_count": 2,
      "outputs": [
        {
          "output_type": "execute_result",
          "data": {
            "text/plain": [
              "array([[-0.97062946,  0.03782132],\n",
              "       [-0.81032756, -0.04961955],\n",
              "       [ 0.55650471,  0.79362129],\n",
              "       ...,\n",
              "       [ 0.06833668,  1.03462829],\n",
              "       [-0.95074224, -0.27235243],\n",
              "       [-0.83796162, -0.5500797 ]])"
            ]
          },
          "metadata": {
            "tags": []
          },
          "execution_count": 2
        }
      ]
    },
    {
      "cell_type": "code",
      "metadata": {
        "colab": {
          "base_uri": "https://localhost:8080/"
        },
        "id": "NlJU6X7vkzd2",
        "outputId": "7bf7fe5a-2391-4cf3-cfbc-1b562baea6e5"
      },
      "source": [
        "# Check labels\n",
        "y"
      ],
      "execution_count": 3,
      "outputs": [
        {
          "output_type": "execute_result",
          "data": {
            "text/plain": [
              "array([0, 1, 0, 0, 1, 1, 1, 0, 1, 1, 1, 1, 1, 0, 1, 1, 1, 1, 1, 1, 0, 1,\n",
              "       1, 0, 0, 1, 1, 0, 0, 0, 0, 1, 1, 0, 0, 1, 0, 0, 0, 0, 1, 0, 1, 0,\n",
              "       0, 1, 0, 1, 0, 1, 0, 0, 1, 1, 1, 0, 0, 0, 1, 1, 1, 1, 1, 1, 0, 1,\n",
              "       1, 0, 0, 0, 1, 0, 1, 1, 0, 1, 0, 1, 1, 0, 0, 0, 0, 1, 0, 0, 0, 0,\n",
              "       1, 1, 0, 0, 1, 0, 0, 1, 0, 0, 0, 0, 0, 0, 0, 0, 0, 1, 0, 1, 1, 1,\n",
              "       1, 0, 1, 0, 0, 0, 0, 0, 0, 0, 1, 0, 0, 0, 1, 0, 0, 1, 0, 0, 1, 1,\n",
              "       1, 1, 1, 1, 1, 0, 0, 0, 1, 1, 0, 0, 1, 0, 0, 0, 0, 1, 0, 1, 1, 0,\n",
              "       1, 0, 1, 1, 1, 1, 1, 0, 1, 1, 0, 1, 1, 0, 1, 1, 1, 0, 1, 1, 1, 1,\n",
              "       0, 0, 0, 1, 1, 0, 1, 1, 1, 1, 1, 1, 0, 1, 1, 0, 1, 0, 1, 0, 0, 0,\n",
              "       1, 1, 1, 1, 1, 0, 1, 0, 0, 0, 0, 0, 1, 1, 1, 1, 0, 1, 1, 0, 0, 0,\n",
              "       0, 0, 1, 1, 1, 0, 1, 1, 0, 0, 0, 0, 0, 1, 0, 0, 1, 1, 1, 0, 1, 1,\n",
              "       1, 0, 0, 0, 1, 1, 0, 0, 1, 1, 1, 1, 0, 0, 1, 0, 0, 1, 0, 0, 1, 1,\n",
              "       0, 0, 1, 1, 0, 1, 1, 0, 1, 0, 1, 1, 0, 0, 1, 0, 0, 0, 0, 0, 0, 1,\n",
              "       0, 1, 1, 0, 0, 1, 0, 1, 1, 0, 0, 1, 0, 1, 0, 0, 0, 0, 1, 0, 0, 1,\n",
              "       1, 0, 1, 0, 0, 0, 0, 1, 1, 1, 1, 0, 1, 1, 1, 1, 1, 0, 0, 1, 1, 0,\n",
              "       0, 1, 0, 0, 1, 1, 0, 0, 0, 1, 0, 1, 1, 0, 1, 0, 0, 0, 1, 0, 0, 0,\n",
              "       0, 0, 1, 0, 1, 1, 0, 0, 1, 1, 0, 0, 1, 1, 0, 1, 1, 0, 0, 1, 0, 0,\n",
              "       1, 1, 0, 0, 1, 0, 1, 0, 1, 0, 0, 0, 1, 1, 0, 1, 0, 1, 0, 0, 1, 0,\n",
              "       0, 1, 1, 1, 0, 0, 0, 0, 0, 0, 1, 1, 1, 1, 1, 0, 1, 1, 1, 1, 0, 1,\n",
              "       0, 1, 1, 1, 1, 0, 0, 0, 1, 0, 0, 0, 1, 0, 1, 1, 1, 1, 0, 0, 0, 1,\n",
              "       0, 0, 0, 0, 0, 0, 1, 1, 0, 1, 0, 0, 0, 1, 1, 1, 1, 0, 1, 0, 1, 0,\n",
              "       1, 1, 1, 1, 0, 0, 1, 0, 1, 0, 0, 1, 1, 1, 1, 1, 0, 0, 0, 1, 0, 1,\n",
              "       0, 1, 1, 0, 0, 1, 1, 0, 1, 1, 0, 0, 1, 0, 1, 0, 1, 0, 1, 1, 0, 1,\n",
              "       1, 1, 0, 1, 0, 1, 1, 0, 1, 0, 0, 0, 0, 0, 1, 1, 1, 1, 1, 0, 1, 0,\n",
              "       0, 1, 1, 0, 1, 0, 0, 0, 0, 1, 0, 1, 1, 0, 1, 1, 0, 0, 0, 1, 1, 0,\n",
              "       1, 1, 0, 1, 0, 0, 1, 0, 0, 1, 0, 0, 0, 0, 0, 0, 1, 1, 0, 1, 0, 0,\n",
              "       1, 1, 0, 1, 1, 0, 0, 0, 0, 0, 1, 1, 1, 0, 1, 0, 1, 1, 1, 0, 1, 0,\n",
              "       1, 1, 1, 1, 1, 0, 1, 0, 0, 1, 1, 1, 1, 0, 0, 0, 0, 1, 0, 0, 0, 1,\n",
              "       1, 0, 0, 0, 1, 0, 1, 0, 0, 1, 0, 0, 1, 1, 0, 1, 1, 0, 1, 0, 0, 1,\n",
              "       0, 0, 1, 1, 1, 0, 0, 0, 1, 1, 1, 0, 1, 0, 0, 0, 0, 1, 0, 0, 0, 0,\n",
              "       1, 0, 1, 0, 1, 0, 1, 1, 1, 0, 0, 0, 1, 0, 0, 0, 0, 0, 0, 1, 0, 0,\n",
              "       1, 0, 1, 1, 0, 0, 1, 1, 1, 0, 0, 0, 1, 0, 0, 0, 0, 0, 1, 0, 0, 1,\n",
              "       1, 1, 0, 0, 0, 0, 1, 0, 0, 1, 0, 0, 1, 1, 0, 0, 1, 1, 1, 0, 0, 1,\n",
              "       1, 0, 1, 0, 1, 0, 1, 0, 1, 0, 0, 1, 1, 0, 1, 1, 0, 1, 1, 1, 1, 1,\n",
              "       0, 1, 1, 1, 0, 0, 0, 1, 1, 0, 1, 1, 0, 1, 1, 1, 0, 0, 0, 1, 1, 1,\n",
              "       0, 0, 1, 0, 0, 0, 1, 1, 1, 0, 0, 0, 0, 0, 0, 0, 0, 0, 0, 0, 0, 1,\n",
              "       1, 0, 1, 1, 1, 0, 1, 1, 1, 0, 1, 0, 1, 0, 0, 0, 0, 1, 0, 1, 1, 0,\n",
              "       0, 0, 1, 1, 1, 1, 1, 1, 1, 0, 1, 0, 0, 0, 0, 0, 1, 0, 1, 1, 1, 1,\n",
              "       0, 0, 0, 1, 1, 0, 0, 1, 1, 0, 1, 0, 0, 0, 0, 1, 0, 1, 1, 0, 1, 1,\n",
              "       1, 1, 0, 1, 1, 0, 0, 1, 0, 1, 1, 0, 1, 1, 1, 0, 0, 1, 1, 1, 0, 1,\n",
              "       1, 0, 1, 1, 0, 0, 1, 1, 0, 1, 1, 1, 0, 0, 1, 0, 0, 0, 1, 0, 0, 1,\n",
              "       1, 1, 0, 0, 0, 1, 0, 1, 1, 0, 0, 0, 1, 1, 1, 0, 1, 0, 1, 0, 1, 0,\n",
              "       0, 1, 0, 1, 1, 1, 0, 0, 1, 0, 1, 1, 0, 1, 1, 1, 1, 1, 0, 1, 0, 1,\n",
              "       1, 0, 1, 0, 0, 0, 1, 1, 1, 0, 1, 1, 0, 1, 0, 1, 1, 1, 1, 1, 1, 1,\n",
              "       1, 0, 1, 1, 0, 1, 0, 0, 0, 1, 1, 1, 0, 1, 0, 1, 0, 1, 1, 1, 1, 1,\n",
              "       0, 1, 0, 0, 1, 1, 1, 0, 0, 0])"
            ]
          },
          "metadata": {
            "tags": []
          },
          "execution_count": 3
        }
      ]
    },
    {
      "cell_type": "code",
      "metadata": {
        "colab": {
          "base_uri": "https://localhost:8080/"
        },
        "id": "tu4TDlEgk1yM",
        "outputId": "c3bb3fc8-17cc-4a5e-927b-57d9e80de4b0"
      },
      "source": [
        "X[0]"
      ],
      "execution_count": 4,
      "outputs": [
        {
          "output_type": "execute_result",
          "data": {
            "text/plain": [
              "array([-0.97062946,  0.03782132])"
            ]
          },
          "metadata": {
            "tags": []
          },
          "execution_count": 4
        }
      ]
    },
    {
      "cell_type": "markdown",
      "metadata": {
        "id": "KnJPTjPglDxQ"
      },
      "source": [
        "Our data is hard to interpret now, so we will visualize it"
      ]
    },
    {
      "cell_type": "code",
      "metadata": {
        "colab": {
          "base_uri": "https://localhost:8080/",
          "height": 424
        },
        "id": "PFcAfX79lOmS",
        "outputId": "9e1f3a27-c2b5-42f2-9e93-608f13578462"
      },
      "source": [
        "import pandas as pd\n",
        "circles = pd.DataFrame({\"X0\":X[:, 0], \"X1\":X[:, 1], \"label\":y})\n",
        "circles"
      ],
      "execution_count": 5,
      "outputs": [
        {
          "output_type": "execute_result",
          "data": {
            "text/html": [
              "<div>\n",
              "<style scoped>\n",
              "    .dataframe tbody tr th:only-of-type {\n",
              "        vertical-align: middle;\n",
              "    }\n",
              "\n",
              "    .dataframe tbody tr th {\n",
              "        vertical-align: top;\n",
              "    }\n",
              "\n",
              "    .dataframe thead th {\n",
              "        text-align: right;\n",
              "    }\n",
              "</style>\n",
              "<table border=\"1\" class=\"dataframe\">\n",
              "  <thead>\n",
              "    <tr style=\"text-align: right;\">\n",
              "      <th></th>\n",
              "      <th>X0</th>\n",
              "      <th>X1</th>\n",
              "      <th>label</th>\n",
              "    </tr>\n",
              "  </thead>\n",
              "  <tbody>\n",
              "    <tr>\n",
              "      <th>0</th>\n",
              "      <td>-0.970629</td>\n",
              "      <td>0.037821</td>\n",
              "      <td>0</td>\n",
              "    </tr>\n",
              "    <tr>\n",
              "      <th>1</th>\n",
              "      <td>-0.810328</td>\n",
              "      <td>-0.049620</td>\n",
              "      <td>1</td>\n",
              "    </tr>\n",
              "    <tr>\n",
              "      <th>2</th>\n",
              "      <td>0.556505</td>\n",
              "      <td>0.793621</td>\n",
              "      <td>0</td>\n",
              "    </tr>\n",
              "    <tr>\n",
              "      <th>3</th>\n",
              "      <td>0.228634</td>\n",
              "      <td>-1.039017</td>\n",
              "      <td>0</td>\n",
              "    </tr>\n",
              "    <tr>\n",
              "      <th>4</th>\n",
              "      <td>0.769528</td>\n",
              "      <td>-0.327903</td>\n",
              "      <td>1</td>\n",
              "    </tr>\n",
              "    <tr>\n",
              "      <th>...</th>\n",
              "      <td>...</td>\n",
              "      <td>...</td>\n",
              "      <td>...</td>\n",
              "    </tr>\n",
              "    <tr>\n",
              "      <th>995</th>\n",
              "      <td>-0.671113</td>\n",
              "      <td>0.459951</td>\n",
              "      <td>1</td>\n",
              "    </tr>\n",
              "    <tr>\n",
              "      <th>996</th>\n",
              "      <td>-0.340622</td>\n",
              "      <td>-0.718236</td>\n",
              "      <td>1</td>\n",
              "    </tr>\n",
              "    <tr>\n",
              "      <th>997</th>\n",
              "      <td>0.068337</td>\n",
              "      <td>1.034628</td>\n",
              "      <td>0</td>\n",
              "    </tr>\n",
              "    <tr>\n",
              "      <th>998</th>\n",
              "      <td>-0.950742</td>\n",
              "      <td>-0.272352</td>\n",
              "      <td>0</td>\n",
              "    </tr>\n",
              "    <tr>\n",
              "      <th>999</th>\n",
              "      <td>-0.837962</td>\n",
              "      <td>-0.550080</td>\n",
              "      <td>0</td>\n",
              "    </tr>\n",
              "  </tbody>\n",
              "</table>\n",
              "<p>1000 rows × 3 columns</p>\n",
              "</div>"
            ],
            "text/plain": [
              "           X0        X1  label\n",
              "0   -0.970629  0.037821      0\n",
              "1   -0.810328 -0.049620      1\n",
              "2    0.556505  0.793621      0\n",
              "3    0.228634 -1.039017      0\n",
              "4    0.769528 -0.327903      1\n",
              "..        ...       ...    ...\n",
              "995 -0.671113  0.459951      1\n",
              "996 -0.340622 -0.718236      1\n",
              "997  0.068337  1.034628      0\n",
              "998 -0.950742 -0.272352      0\n",
              "999 -0.837962 -0.550080      0\n",
              "\n",
              "[1000 rows x 3 columns]"
            ]
          },
          "metadata": {
            "tags": []
          },
          "execution_count": 5
        }
      ]
    },
    {
      "cell_type": "code",
      "metadata": {
        "colab": {
          "base_uri": "https://localhost:8080/",
          "height": 283
        },
        "id": "eW9bMuiilgMm",
        "outputId": "160ee8da-237d-4a90-c12e-cce6bbb4719b"
      },
      "source": [
        "# Visualize with a plot \n",
        "import matplotlib.pyplot as plt\n",
        "plt.scatter(X[:,0], X[:,1], c=y, cmap=plt.cm.RdYlBu)"
      ],
      "execution_count": 6,
      "outputs": [
        {
          "output_type": "execute_result",
          "data": {
            "text/plain": [
              "<matplotlib.collections.PathCollection at 0x7f47261f0cd0>"
            ]
          },
          "metadata": {
            "tags": []
          },
          "execution_count": 6
        },
        {
          "output_type": "display_data",
          "data": {
            "image/png": "[encoded data removed]",
            "text/plain": [
              "<Figure size 432x288 with 1 Axes>"
            ]
          },
          "metadata": {
            "tags": [],
            "needs_background": "light"
          }
        }
      ]
    },
    {
      "cell_type": "markdown",
      "metadata": {
        "id": "pqa3cMvIl8Fy"
      },
      "source": [
        "## Input and output shapes\n"
      ]
    },
    {
      "cell_type": "code",
      "metadata": {
        "colab": {
          "base_uri": "https://localhost:8080/"
        },
        "id": "v5wAXUT1m6AN",
        "outputId": "8375a9e5-bd7d-4fd1-da09-cef3300d0a6b"
      },
      "source": [
        "# Check the shapes of our features and labels\n",
        "X.shape, y.shape"
      ],
      "execution_count": 7,
      "outputs": [
        {
          "output_type": "execute_result",
          "data": {
            "text/plain": [
              "((1000, 2), (1000,))"
            ]
          },
          "metadata": {
            "tags": []
          },
          "execution_count": 7
        }
      ]
    },
    {
      "cell_type": "code",
      "metadata": {
        "colab": {
          "base_uri": "https://localhost:8080/"
        },
        "id": "xbEpmt7Bm9VR",
        "outputId": "4acb56bc-e3bb-4d3d-a5f3-140d6cc35ab0"
      },
      "source": [
        "# How many samples we're working with\n",
        "len(X), len(y)"
      ],
      "execution_count": 8,
      "outputs": [
        {
          "output_type": "execute_result",
          "data": {
            "text/plain": [
              "(1000, 1000)"
            ]
          },
          "metadata": {
            "tags": []
          },
          "execution_count": 8
        }
      ]
    },
    {
      "cell_type": "code",
      "metadata": {
        "colab": {
          "base_uri": "https://localhost:8080/"
        },
        "id": "vqhNScaPnDsj",
        "outputId": "fd4deb79-ffc8-43d1-8e29-eb116456c1f5"
      },
      "source": [
        "# View the first example of features and labels\n",
        "X[0], y[0]"
      ],
      "execution_count": 9,
      "outputs": [
        {
          "output_type": "execute_result",
          "data": {
            "text/plain": [
              "(array([-0.97062946,  0.03782132]), 0)"
            ]
          },
          "metadata": {
            "tags": []
          },
          "execution_count": 9
        }
      ]
    },
    {
      "cell_type": "markdown",
      "metadata": {
        "id": "9ds5nQt9nNXH"
      },
      "source": [
        "## Steps in modelling\n",
        "\n",
        "1. Create or import a model\n",
        "2. Compile the model\n",
        "3. Fit the model\n",
        "4. Evaluate the model\n",
        "5. Tune model\n",
        "6. Evaluate model..."
      ]
    },
    {
      "cell_type": "code",
      "metadata": {
        "colab": {
          "base_uri": "https://localhost:8080/"
        },
        "id": "Ecgz9f0WnRs0",
        "outputId": "c95a9f4c-ab77-4369-fa8d-eef80f99b7ab"
      },
      "source": [
        "import tensorflow as tf\n",
        "tf.__version__\n",
        "\n",
        "# Set random seed\n",
        "tf.random.set_seed(42)\n",
        "\n",
        "# 1. Create model using Sequential API\n",
        "model_1 = tf.keras.Sequential([\n",
        "  tf.keras.layers.Dense(1)\n",
        "])\n",
        "\n",
        "# 2. Compile model\n",
        "model_1.compile(loss=tf.keras.losses.BinaryCrossentropy(),\n",
        "                optimizer=tf.keras.optimizers.SGD(),\n",
        "                metrics=[\"accuracy\"])\n",
        "# 3. Fit model\n",
        "model_1.fit(X, y, epochs=5)"
      ],
      "execution_count": 10,
      "outputs": [
        {
          "output_type": "stream",
          "text": [
            "Epoch 1/5\n",
            "32/32 [==============================] - 1s 2ms/step - loss: 5.1809 - accuracy: 0.5840\n",
            "Epoch 2/5\n",
            "32/32 [==============================] - 0s 2ms/step - loss: 5.1278 - accuracy: 0.5580\n",
            "Epoch 3/5\n",
            "32/32 [==============================] - 0s 2ms/step - loss: 4.9459 - accuracy: 0.5380\n",
            "Epoch 4/5\n",
            "32/32 [==============================] - 0s 2ms/step - loss: 4.9308 - accuracy: 0.5430\n",
            "Epoch 5/5\n",
            "32/32 [==============================] - 0s 2ms/step - loss: 4.8591 - accuracy: 0.5370\n"
          ],
          "name": "stdout"
        },
        {
          "output_type": "execute_result",
          "data": {
            "text/plain": [
              "<tensorflow.python.keras.callbacks.History at 0x7f46e35f0590>"
            ]
          },
          "metadata": {
            "tags": []
          },
          "execution_count": 10
        }
      ]
    },
    {
      "cell_type": "code",
      "metadata": {
        "colab": {
          "base_uri": "https://localhost:8080/"
        },
        "id": "FgYOgUdep0jw",
        "outputId": "298e7f29-1ff1-447c-f3c2-a0779c01558d"
      },
      "source": [
        "# Let's try to improve our model by training for longer\n",
        "model_1.fit(X, y, epochs=200, verbose=0)\n",
        "model_1.evaluate(X, y)"
      ],
      "execution_count": 11,
      "outputs": [
        {
          "output_type": "stream",
          "text": [
            "32/32 [==============================] - 0s 989us/step - loss: 0.6932 - accuracy: 0.5000\n"
          ],
          "name": "stdout"
        },
        {
          "output_type": "execute_result",
          "data": {
            "text/plain": [
              "[0.6931741833686829, 0.5]"
            ]
          },
          "metadata": {
            "tags": []
          },
          "execution_count": 11
        }
      ]
    },
    {
      "cell_type": "markdown",
      "metadata": {
        "id": "SUhNuTnAq25W"
      },
      "source": [
        "Since we're working on a binary classification problem, an accuracy of 50% is basically like a random guess. We Will try to add an extra layer."
      ]
    },
    {
      "cell_type": "code",
      "metadata": {
        "colab": {
          "base_uri": "https://localhost:8080/"
        },
        "id": "itp8AP81rJ97",
        "outputId": "8cc8054d-49b4-4a22-f559-84efbd02d8a8"
      },
      "source": [
        "# Set random seed\n",
        "tf.random.set_seed(18)\n",
        "\n",
        "# Create model\n",
        "model_2 = tf.keras.Sequential([\n",
        "  tf.keras.layers.Dense(1),\n",
        "  tf.keras.layers.Dense(1)\n",
        "])\n",
        "\n",
        "# Compile model\n",
        "model_2.compile(loss=tf.keras.losses.BinaryCrossentropy(),\n",
        "                optimizer=tf.keras.optimizers.SGD(),\n",
        "                metrics=[\"accuracy\"])\n",
        "\n",
        "# Fit model\n",
        "model_2.fit(X,y,epochs=200,verbose=0)\n",
        "\n",
        "# Evaluate model\n",
        "model_2.evaluate(X,y)"
      ],
      "execution_count": 12,
      "outputs": [
        {
          "output_type": "stream",
          "text": [
            "32/32 [==============================] - 0s 1ms/step - loss: 7.6246 - accuracy: 0.5000\n"
          ],
          "name": "stdout"
        },
        {
          "output_type": "execute_result",
          "data": {
            "text/plain": [
              "[7.6246185302734375, 0.5]"
            ]
          },
          "metadata": {
            "tags": []
          },
          "execution_count": 12
        }
      ]
    },
    {
      "cell_type": "code",
      "metadata": {
        "colab": {
          "base_uri": "https://localhost:8080/"
        },
        "id": "wCUMIpbAMSFa",
        "outputId": "75769a9c-0e12-4489-fcc4-f08506b4c947"
      },
      "source": [
        "circles[\"label\"].value_counts()"
      ],
      "execution_count": 13,
      "outputs": [
        {
          "output_type": "execute_result",
          "data": {
            "text/plain": [
              "1    500\n",
              "0    500\n",
              "Name: label, dtype: int64"
            ]
          },
          "metadata": {
            "tags": []
          },
          "execution_count": 13
        }
      ]
    },
    {
      "cell_type": "markdown",
      "metadata": {
        "id": "HCH_Qhk1r3f_"
      },
      "source": [
        "## Improving model\n",
        "1. Creating model - add more layers or increase number of hidden units within layer\n",
        "2. Compiling model - choose different optimization function eg. Adam vs. SGD\n",
        "3. Fitting a model - fit our model to more epochs, change callbacks"
      ]
    },
    {
      "cell_type": "code",
      "metadata": {
        "colab": {
          "base_uri": "https://localhost:8080/"
        },
        "id": "VoS-C5aENIKY",
        "outputId": "25a33bc7-bc64-412c-fef6-f24390f1c63a"
      },
      "source": [
        "# Set random seed\n",
        "tf.random.set_seed(18)\n",
        "\n",
        "# Create model (this time with 3 layers)\n",
        "model_3 = tf.keras.Sequential([\n",
        "  tf.keras.layers.Dense(100),\n",
        "  tf.keras.layers.Dense(10),\n",
        "  tf.keras.layers.Dense(1)\n",
        "])\n",
        "\n",
        "# Compile model\n",
        "model_3.compile(loss=tf.keras.losses.BinaryCrossentropy(),\n",
        "                optimizer=tf.keras.optimizers.Adam(),\n",
        "                metrics=['accuracy'])\n",
        "\n",
        "# Fit model\n",
        "model_3.fit(X, y, epochs=100, verbose=0)"
      ],
      "execution_count": 14,
      "outputs": [
        {
          "output_type": "execute_result",
          "data": {
            "text/plain": [
              "<tensorflow.python.keras.callbacks.History at 0x7f46e236e110>"
            ]
          },
          "metadata": {
            "tags": []
          },
          "execution_count": 14
        }
      ]
    },
    {
      "cell_type": "code",
      "metadata": {
        "colab": {
          "base_uri": "https://localhost:8080/"
        },
        "id": "cJbjrVIzOIN8",
        "outputId": "b9c20518-c95c-4ef1-d9bc-ba5a65fa1d60"
      },
      "source": [
        "# Evaluate model\n",
        "model_3.evaluate(X, y)"
      ],
      "execution_count": 15,
      "outputs": [
        {
          "output_type": "stream",
          "text": [
            "32/32 [==============================] - 0s 1ms/step - loss: 0.6941 - accuracy: 0.4860\n"
          ],
          "name": "stdout"
        },
        {
          "output_type": "execute_result",
          "data": {
            "text/plain": [
              "[0.6941264867782593, 0.4860000014305115]"
            ]
          },
          "metadata": {
            "tags": []
          },
          "execution_count": 15
        }
      ]
    },
    {
      "cell_type": "markdown",
      "metadata": {
        "id": "EPx9RamHOQIj"
      },
      "source": [
        "To visualize our model's predictions, we will create a function `plot_decision_boundary()` to:\n",
        "\n",
        "* Take in a trained model, features (X) and labels (y)\n",
        "* Create a meshgrid of different X values\n",
        "* Make predictions across the meshgrid\n",
        "* Plot predictions as well as a line between zones\n"
      ]
    },
    {
      "cell_type": "code",
      "metadata": {
        "id": "XXi7im-PRmBU"
      },
      "source": [
        "import numpy as np\n",
        "\n",
        "def plot_decision_boundary(model, X, y):\n",
        "  \"\"\"\n",
        "  Plots the decision boundary created by a model predicting on X.\n",
        "  This function has been adapted from two phenomenal resources:\n",
        "   1. CS231n - https://cs231n.github.io/neural-networks-case-study/\n",
        "   2. Made with ML basics - https://github.com/GokuMohandas/MadeWithML/blob/main/notebooks/08_Neural_Networks.ipynb\n",
        "  \"\"\"\n",
        "  # Define axis boundaries of plot and create a meshgrid\n",
        "  x_min, x_max = X[:,0].min() - 0.1, X[:,0].max() +0.1\n",
        "  y_min, y_max = X[:,1].min() - 0.1, X[:,1].max() +0.1\n",
        "  xx, yy = np.meshgrid(np.linspace(x_min, x_max, 100),\n",
        "                       np.linspace(y_min, y_max, 100))\n",
        "  \n",
        "  # Create X value\n",
        "  x_in = np.c_[xx.ravel(), yy.ravel()] # stack 2D arrays together\n",
        "\n",
        "  # Make predictions\n",
        "  y_pred = model.predict(x_in)\n",
        "\n",
        "  # Check for multi-class\n",
        "  if len(y_pred[0]) > 1:\n",
        "    print(\"Doing multiclass classification\\n\")\n",
        "    # We must reshape our prediction\n",
        "    y_pred=np.argmax(y_pred, axis=1).reshape(xx.shape)\n",
        "  else:\n",
        "    print(\"Doing binary classification\\n\")\n",
        "    y_pred = np.round(y_pred).reshape(xx.shape)\n",
        "\n",
        "  # Plot the decision boundary\n",
        "  plt.contourf(xx, yy, y_pred, cmap=plt.cm.RdYlBu, alpha=0.7)\n",
        "  plt.scatter(X[:, 0], X[:, 1], c=y, s=40, cmap=plt.cm.RdYlBu)\n",
        "  plt.xlim(xx.min(), xx.max())\n",
        "  plt.ylim(yy.min(), yy.max())"
      ],
      "execution_count": 16,
      "outputs": []
    },
    {
      "cell_type": "code",
      "metadata": {
        "colab": {
          "base_uri": "https://localhost:8080/",
          "height": 302
        },
        "id": "ivSrIejtSSzE",
        "outputId": "6a2d1e77-255d-4092-dd5f-fa2dcde0f68f"
      },
      "source": [
        "# Check predictions our model is making\n",
        "plot_decision_boundary(model=model_3,\n",
        "                       X=X,\n",
        "                       y=y)"
      ],
      "execution_count": 17,
      "outputs": [
        {
          "output_type": "stream",
          "text": [
            "Doing binary classification\n",
            "\n"
          ],
          "name": "stdout"
        },
        {
          "output_type": "display_data",
          "data": {
            "image/png": "[encoded data removed]",
            "text/plain": [
              "<Figure size 432x288 with 1 Axes>"
            ]
          },
          "metadata": {
            "tags": [],
            "needs_background": "light"
          }
        }
      ]
    },
    {
      "cell_type": "code",
      "metadata": {
        "id": "5qqFnw88WDpS",
        "colab": {
          "base_uri": "https://localhost:8080/",
          "height": 973
        },
        "outputId": "49d0b03a-9f74-410a-9ec5-12912e15dbe4"
      },
      "source": [
        "# Let's see if our model can be used for a regression problem...\n",
        "\n",
        "# Set random seed\n",
        "tf.random.set_seed(42)\n",
        "\n",
        "# Create some regression data\n",
        "X_regression = tf.range(0, 1000, 5)\n",
        "y_regression = tf.range(100, 1100, 5) # y = X + 100\n",
        "\n",
        "X_regression, y_regression\n",
        "\n",
        "# Split regression data into training and test sets\n",
        "X_reg_train = X_regression[:150]\n",
        "X_reg_test = X_regression[150:]\n",
        "\n",
        "y_reg_train = y_regression[:150]\n",
        "y_reg_test = y_regression[150:]\n",
        "\n",
        "# Fit model to regression data\n",
        "model_3.fit(X_reg_train, y_reg_train, epochs=100)"
      ],
      "execution_count": 20,
      "outputs": [
        {
          "output_type": "stream",
          "text": [
            "Epoch 1/100\n"
          ],
          "name": "stdout"
        },
        {
          "output_type": "error",
          "ename": "ValueError",
          "evalue": "ignored",
          "traceback": [
            "\u001b[0;31m---------------------------------------------------------------------------\u001b[0m",
            "\u001b[0;31mValueError\u001b[0m                                Traceback (most recent call last)",
            "\u001b[0;32m<ipython-input-20-44361aea7584>\u001b[0m in \u001b[0;36m<module>\u001b[0;34m()\u001b[0m\n\u001b[1;32m     18\u001b[0m \u001b[0;34m\u001b[0m\u001b[0m\n\u001b[1;32m     19\u001b[0m \u001b[0;31m# Fit model to regression data\u001b[0m\u001b[0;34m\u001b[0m\u001b[0;34m\u001b[0m\u001b[0;34m\u001b[0m\u001b[0m\n\u001b[0;32m---> 20\u001b[0;31m \u001b[0mmodel_3\u001b[0m\u001b[0;34m.\u001b[0m\u001b[0mfit\u001b[0m\u001b[0;34m(\u001b[0m\u001b[0mX_reg_train\u001b[0m\u001b[0;34m,\u001b[0m \u001b[0my_reg_train\u001b[0m\u001b[0;34m,\u001b[0m \u001b[0mepochs\u001b[0m\u001b[0;34m=\u001b[0m\u001b[0;36m100\u001b[0m\u001b[0;34m)\u001b[0m\u001b[0;34m\u001b[0m\u001b[0;34m\u001b[0m\u001b[0m\n\u001b[0m",
            "\u001b[0;32m/usr/local/lib/python3.7/dist-packages/tensorflow/python/keras/engine/training.py\u001b[0m in \u001b[0;36mfit\u001b[0;34m(self, x, y, batch_size, epochs, verbose, callbacks, validation_split, validation_data, shuffle, class_weight, sample_weight, initial_epoch, steps_per_epoch, validation_steps, validation_batch_size, validation_freq, max_queue_size, workers, use_multiprocessing)\u001b[0m\n\u001b[1;32m   1181\u001b[0m                 _r=1):\n\u001b[1;32m   1182\u001b[0m               \u001b[0mcallbacks\u001b[0m\u001b[0;34m.\u001b[0m\u001b[0mon_train_batch_begin\u001b[0m\u001b[0;34m(\u001b[0m\u001b[0mstep\u001b[0m\u001b[0;34m)\u001b[0m\u001b[0;34m\u001b[0m\u001b[0;34m\u001b[0m\u001b[0m\n\u001b[0;32m-> 1183\u001b[0;31m               \u001b[0mtmp_logs\u001b[0m \u001b[0;34m=\u001b[0m \u001b[0mself\u001b[0m\u001b[0;34m.\u001b[0m\u001b[0mtrain_function\u001b[0m\u001b[0;34m(\u001b[0m\u001b[0miterator\u001b[0m\u001b[0;34m)\u001b[0m\u001b[0;34m\u001b[0m\u001b[0;34m\u001b[0m\u001b[0m\n\u001b[0m\u001b[1;32m   1184\u001b[0m               \u001b[0;32mif\u001b[0m \u001b[0mdata_handler\u001b[0m\u001b[0;34m.\u001b[0m\u001b[0mshould_sync\u001b[0m\u001b[0;34m:\u001b[0m\u001b[0;34m\u001b[0m\u001b[0;34m\u001b[0m\u001b[0m\n\u001b[1;32m   1185\u001b[0m                 \u001b[0mcontext\u001b[0m\u001b[0;34m.\u001b[0m\u001b[0masync_wait\u001b[0m\u001b[0;34m(\u001b[0m\u001b[0;34m)\u001b[0m\u001b[0;34m\u001b[0m\u001b[0;34m\u001b[0m\u001b[0m\n",
            "\u001b[0;32m/usr/local/lib/python3.7/dist-packages/tensorflow/python/eager/def_function.py\u001b[0m in \u001b[0;36m__call__\u001b[0;34m(self, *args, **kwds)\u001b[0m\n\u001b[1;32m    887\u001b[0m \u001b[0;34m\u001b[0m\u001b[0m\n\u001b[1;32m    888\u001b[0m       \u001b[0;32mwith\u001b[0m \u001b[0mOptionalXlaContext\u001b[0m\u001b[0;34m(\u001b[0m\u001b[0mself\u001b[0m\u001b[0;34m.\u001b[0m\u001b[0m_jit_compile\u001b[0m\u001b[0;34m)\u001b[0m\u001b[0;34m:\u001b[0m\u001b[0;34m\u001b[0m\u001b[0;34m\u001b[0m\u001b[0m\n\u001b[0;32m--> 889\u001b[0;31m         \u001b[0mresult\u001b[0m \u001b[0;34m=\u001b[0m \u001b[0mself\u001b[0m\u001b[0;34m.\u001b[0m\u001b[0m_call\u001b[0m\u001b[0;34m(\u001b[0m\u001b[0;34m*\u001b[0m\u001b[0margs\u001b[0m\u001b[0;34m,\u001b[0m \u001b[0;34m**\u001b[0m\u001b[0mkwds\u001b[0m\u001b[0;34m)\u001b[0m\u001b[0;34m\u001b[0m\u001b[0;34m\u001b[0m\u001b[0m\n\u001b[0m\u001b[1;32m    890\u001b[0m \u001b[0;34m\u001b[0m\u001b[0m\n\u001b[1;32m    891\u001b[0m       \u001b[0mnew_tracing_count\u001b[0m \u001b[0;34m=\u001b[0m \u001b[0mself\u001b[0m\u001b[0;34m.\u001b[0m\u001b[0mexperimental_get_tracing_count\u001b[0m\u001b[0;34m(\u001b[0m\u001b[0;34m)\u001b[0m\u001b[0;34m\u001b[0m\u001b[0;34m\u001b[0m\u001b[0m\n",
            "\u001b[0;32m/usr/local/lib/python3.7/dist-packages/tensorflow/python/eager/def_function.py\u001b[0m in \u001b[0;36m_call\u001b[0;34m(self, *args, **kwds)\u001b[0m\n\u001b[1;32m    915\u001b[0m       \u001b[0;31m# In this case we have created variables on the first call, so we run the\u001b[0m\u001b[0;34m\u001b[0m\u001b[0;34m\u001b[0m\u001b[0;34m\u001b[0m\u001b[0m\n\u001b[1;32m    916\u001b[0m       \u001b[0;31m# defunned version which is guaranteed to never create variables.\u001b[0m\u001b[0;34m\u001b[0m\u001b[0;34m\u001b[0m\u001b[0;34m\u001b[0m\u001b[0m\n\u001b[0;32m--> 917\u001b[0;31m       \u001b[0;32mreturn\u001b[0m \u001b[0mself\u001b[0m\u001b[0;34m.\u001b[0m\u001b[0m_stateless_fn\u001b[0m\u001b[0;34m(\u001b[0m\u001b[0;34m*\u001b[0m\u001b[0margs\u001b[0m\u001b[0;34m,\u001b[0m \u001b[0;34m**\u001b[0m\u001b[0mkwds\u001b[0m\u001b[0;34m)\u001b[0m  \u001b[0;31m# pylint: disable=not-callable\u001b[0m\u001b[0;34m\u001b[0m\u001b[0;34m\u001b[0m\u001b[0m\n\u001b[0m\u001b[1;32m    918\u001b[0m     \u001b[0;32melif\u001b[0m \u001b[0mself\u001b[0m\u001b[0;34m.\u001b[0m\u001b[0m_stateful_fn\u001b[0m \u001b[0;32mis\u001b[0m \u001b[0;32mnot\u001b[0m \u001b[0;32mNone\u001b[0m\u001b[0;34m:\u001b[0m\u001b[0;34m\u001b[0m\u001b[0;34m\u001b[0m\u001b[0m\n\u001b[1;32m    919\u001b[0m       \u001b[0;31m# Release the lock early so that multiple threads can perform the call\u001b[0m\u001b[0;34m\u001b[0m\u001b[0;34m\u001b[0m\u001b[0;34m\u001b[0m\u001b[0m\n",
            "\u001b[0;32m/usr/local/lib/python3.7/dist-packages/tensorflow/python/eager/function.py\u001b[0m in \u001b[0;36m__call__\u001b[0;34m(self, *args, **kwargs)\u001b[0m\n\u001b[1;32m   3020\u001b[0m     \u001b[0;32mwith\u001b[0m \u001b[0mself\u001b[0m\u001b[0;34m.\u001b[0m\u001b[0m_lock\u001b[0m\u001b[0;34m:\u001b[0m\u001b[0;34m\u001b[0m\u001b[0;34m\u001b[0m\u001b[0m\n\u001b[1;32m   3021\u001b[0m       (graph_function,\n\u001b[0;32m-> 3022\u001b[0;31m        filtered_flat_args) = self._maybe_define_function(args, kwargs)\n\u001b[0m\u001b[1;32m   3023\u001b[0m     return graph_function._call_flat(\n\u001b[1;32m   3024\u001b[0m         filtered_flat_args, captured_inputs=graph_function.captured_inputs)  # pylint: disable=protected-access\n",
            "\u001b[0;32m/usr/local/lib/python3.7/dist-packages/tensorflow/python/eager/function.py\u001b[0m in \u001b[0;36m_maybe_define_function\u001b[0;34m(self, args, kwargs)\u001b[0m\n\u001b[1;32m   3439\u001b[0m               call_context_key in self._function_cache.missed):\n\u001b[1;32m   3440\u001b[0m             return self._define_function_with_shape_relaxation(\n\u001b[0;32m-> 3441\u001b[0;31m                 args, kwargs, flat_args, filtered_flat_args, cache_key_context)\n\u001b[0m\u001b[1;32m   3442\u001b[0m \u001b[0;34m\u001b[0m\u001b[0m\n\u001b[1;32m   3443\u001b[0m           \u001b[0mself\u001b[0m\u001b[0;34m.\u001b[0m\u001b[0m_function_cache\u001b[0m\u001b[0;34m.\u001b[0m\u001b[0mmissed\u001b[0m\u001b[0;34m.\u001b[0m\u001b[0madd\u001b[0m\u001b[0;34m(\u001b[0m\u001b[0mcall_context_key\u001b[0m\u001b[0;34m)\u001b[0m\u001b[0;34m\u001b[0m\u001b[0;34m\u001b[0m\u001b[0m\n",
            "\u001b[0;32m/usr/local/lib/python3.7/dist-packages/tensorflow/python/eager/function.py\u001b[0m in \u001b[0;36m_define_function_with_shape_relaxation\u001b[0;34m(self, args, kwargs, flat_args, filtered_flat_args, cache_key_context)\u001b[0m\n\u001b[1;32m   3361\u001b[0m \u001b[0;34m\u001b[0m\u001b[0m\n\u001b[1;32m   3362\u001b[0m     graph_function = self._create_graph_function(\n\u001b[0;32m-> 3363\u001b[0;31m         args, kwargs, override_flat_arg_shapes=relaxed_arg_shapes)\n\u001b[0m\u001b[1;32m   3364\u001b[0m     \u001b[0mself\u001b[0m\u001b[0;34m.\u001b[0m\u001b[0m_function_cache\u001b[0m\u001b[0;34m.\u001b[0m\u001b[0marg_relaxed\u001b[0m\u001b[0;34m[\u001b[0m\u001b[0mrank_only_cache_key\u001b[0m\u001b[0;34m]\u001b[0m \u001b[0;34m=\u001b[0m \u001b[0mgraph_function\u001b[0m\u001b[0;34m\u001b[0m\u001b[0;34m\u001b[0m\u001b[0m\n\u001b[1;32m   3365\u001b[0m \u001b[0;34m\u001b[0m\u001b[0m\n",
            "\u001b[0;32m/usr/local/lib/python3.7/dist-packages/tensorflow/python/eager/function.py\u001b[0m in \u001b[0;36m_create_graph_function\u001b[0;34m(self, args, kwargs, override_flat_arg_shapes)\u001b[0m\n\u001b[1;32m   3287\u001b[0m             \u001b[0marg_names\u001b[0m\u001b[0;34m=\u001b[0m\u001b[0marg_names\u001b[0m\u001b[0;34m,\u001b[0m\u001b[0;34m\u001b[0m\u001b[0;34m\u001b[0m\u001b[0m\n\u001b[1;32m   3288\u001b[0m             \u001b[0moverride_flat_arg_shapes\u001b[0m\u001b[0;34m=\u001b[0m\u001b[0moverride_flat_arg_shapes\u001b[0m\u001b[0;34m,\u001b[0m\u001b[0;34m\u001b[0m\u001b[0;34m\u001b[0m\u001b[0m\n\u001b[0;32m-> 3289\u001b[0;31m             capture_by_value=self._capture_by_value),\n\u001b[0m\u001b[1;32m   3290\u001b[0m         \u001b[0mself\u001b[0m\u001b[0;34m.\u001b[0m\u001b[0m_function_attributes\u001b[0m\u001b[0;34m,\u001b[0m\u001b[0;34m\u001b[0m\u001b[0;34m\u001b[0m\u001b[0m\n\u001b[1;32m   3291\u001b[0m         \u001b[0mfunction_spec\u001b[0m\u001b[0;34m=\u001b[0m\u001b[0mself\u001b[0m\u001b[0;34m.\u001b[0m\u001b[0mfunction_spec\u001b[0m\u001b[0;34m,\u001b[0m\u001b[0;34m\u001b[0m\u001b[0;34m\u001b[0m\u001b[0m\n",
            "\u001b[0;32m/usr/local/lib/python3.7/dist-packages/tensorflow/python/framework/func_graph.py\u001b[0m in \u001b[0;36mfunc_graph_from_py_func\u001b[0;34m(name, python_func, args, kwargs, signature, func_graph, autograph, autograph_options, add_control_dependencies, arg_names, op_return_value, collections, capture_by_value, override_flat_arg_shapes)\u001b[0m\n\u001b[1;32m    997\u001b[0m         \u001b[0m_\u001b[0m\u001b[0;34m,\u001b[0m \u001b[0moriginal_func\u001b[0m \u001b[0;34m=\u001b[0m \u001b[0mtf_decorator\u001b[0m\u001b[0;34m.\u001b[0m\u001b[0munwrap\u001b[0m\u001b[0;34m(\u001b[0m\u001b[0mpython_func\u001b[0m\u001b[0;34m)\u001b[0m\u001b[0;34m\u001b[0m\u001b[0;34m\u001b[0m\u001b[0m\n\u001b[1;32m    998\u001b[0m \u001b[0;34m\u001b[0m\u001b[0m\n\u001b[0;32m--> 999\u001b[0;31m       \u001b[0mfunc_outputs\u001b[0m \u001b[0;34m=\u001b[0m \u001b[0mpython_func\u001b[0m\u001b[0;34m(\u001b[0m\u001b[0;34m*\u001b[0m\u001b[0mfunc_args\u001b[0m\u001b[0;34m,\u001b[0m \u001b[0;34m**\u001b[0m\u001b[0mfunc_kwargs\u001b[0m\u001b[0;34m)\u001b[0m\u001b[0;34m\u001b[0m\u001b[0;34m\u001b[0m\u001b[0m\n\u001b[0m\u001b[1;32m   1000\u001b[0m \u001b[0;34m\u001b[0m\u001b[0m\n\u001b[1;32m   1001\u001b[0m       \u001b[0;31m# invariant: `func_outputs` contains only Tensors, CompositeTensors,\u001b[0m\u001b[0;34m\u001b[0m\u001b[0;34m\u001b[0m\u001b[0;34m\u001b[0m\u001b[0m\n",
            "\u001b[0;32m/usr/local/lib/python3.7/dist-packages/tensorflow/python/eager/def_function.py\u001b[0m in \u001b[0;36mwrapped_fn\u001b[0;34m(*args, **kwds)\u001b[0m\n\u001b[1;32m    670\u001b[0m         \u001b[0;31m# the function a weak reference to itself to avoid a reference cycle.\u001b[0m\u001b[0;34m\u001b[0m\u001b[0;34m\u001b[0m\u001b[0;34m\u001b[0m\u001b[0m\n\u001b[1;32m    671\u001b[0m         \u001b[0;32mwith\u001b[0m \u001b[0mOptionalXlaContext\u001b[0m\u001b[0;34m(\u001b[0m\u001b[0mcompile_with_xla\u001b[0m\u001b[0;34m)\u001b[0m\u001b[0;34m:\u001b[0m\u001b[0;34m\u001b[0m\u001b[0;34m\u001b[0m\u001b[0m\n\u001b[0;32m--> 672\u001b[0;31m           \u001b[0mout\u001b[0m \u001b[0;34m=\u001b[0m \u001b[0mweak_wrapped_fn\u001b[0m\u001b[0;34m(\u001b[0m\u001b[0;34m)\u001b[0m\u001b[0;34m.\u001b[0m\u001b[0m__wrapped__\u001b[0m\u001b[0;34m(\u001b[0m\u001b[0;34m*\u001b[0m\u001b[0margs\u001b[0m\u001b[0;34m,\u001b[0m \u001b[0;34m**\u001b[0m\u001b[0mkwds\u001b[0m\u001b[0;34m)\u001b[0m\u001b[0;34m\u001b[0m\u001b[0;34m\u001b[0m\u001b[0m\n\u001b[0m\u001b[1;32m    673\u001b[0m         \u001b[0;32mreturn\u001b[0m \u001b[0mout\u001b[0m\u001b[0;34m\u001b[0m\u001b[0;34m\u001b[0m\u001b[0m\n\u001b[1;32m    674\u001b[0m \u001b[0;34m\u001b[0m\u001b[0m\n",
            "\u001b[0;32m/usr/local/lib/python3.7/dist-packages/tensorflow/python/framework/func_graph.py\u001b[0m in \u001b[0;36mwrapper\u001b[0;34m(*args, **kwargs)\u001b[0m\n\u001b[1;32m    984\u001b[0m           \u001b[0;32mexcept\u001b[0m \u001b[0mException\u001b[0m \u001b[0;32mas\u001b[0m \u001b[0me\u001b[0m\u001b[0;34m:\u001b[0m  \u001b[0;31m# pylint:disable=broad-except\u001b[0m\u001b[0;34m\u001b[0m\u001b[0;34m\u001b[0m\u001b[0m\n\u001b[1;32m    985\u001b[0m             \u001b[0;32mif\u001b[0m \u001b[0mhasattr\u001b[0m\u001b[0;34m(\u001b[0m\u001b[0me\u001b[0m\u001b[0;34m,\u001b[0m \u001b[0;34m\"ag_error_metadata\"\u001b[0m\u001b[0;34m)\u001b[0m\u001b[0;34m:\u001b[0m\u001b[0;34m\u001b[0m\u001b[0;34m\u001b[0m\u001b[0m\n\u001b[0;32m--> 986\u001b[0;31m               \u001b[0;32mraise\u001b[0m \u001b[0me\u001b[0m\u001b[0;34m.\u001b[0m\u001b[0mag_error_metadata\u001b[0m\u001b[0;34m.\u001b[0m\u001b[0mto_exception\u001b[0m\u001b[0;34m(\u001b[0m\u001b[0me\u001b[0m\u001b[0;34m)\u001b[0m\u001b[0;34m\u001b[0m\u001b[0;34m\u001b[0m\u001b[0m\n\u001b[0m\u001b[1;32m    987\u001b[0m             \u001b[0;32melse\u001b[0m\u001b[0;34m:\u001b[0m\u001b[0;34m\u001b[0m\u001b[0;34m\u001b[0m\u001b[0m\n\u001b[1;32m    988\u001b[0m               \u001b[0;32mraise\u001b[0m\u001b[0;34m\u001b[0m\u001b[0;34m\u001b[0m\u001b[0m\n",
            "\u001b[0;31mValueError\u001b[0m: in user code:\n\n    /usr/local/lib/python3.7/dist-packages/tensorflow/python/keras/engine/training.py:855 train_function  *\n        return step_function(self, iterator)\n    /usr/local/lib/python3.7/dist-packages/tensorflow/python/keras/engine/training.py:845 step_function  **\n        outputs = model.distribute_strategy.run(run_step, args=(data,))\n    /usr/local/lib/python3.7/dist-packages/tensorflow/python/distribute/distribute_lib.py:1285 run\n        return self._extended.call_for_each_replica(fn, args=args, kwargs=kwargs)\n    /usr/local/lib/python3.7/dist-packages/tensorflow/python/distribute/distribute_lib.py:2833 call_for_each_replica\n        return self._call_for_each_replica(fn, args, kwargs)\n    /usr/local/lib/python3.7/dist-packages/tensorflow/python/distribute/distribute_lib.py:3608 _call_for_each_replica\n        return fn(*args, **kwargs)\n    /usr/local/lib/python3.7/dist-packages/tensorflow/python/keras/engine/training.py:838 run_step  **\n        outputs = model.train_step(data)\n    /usr/local/lib/python3.7/dist-packages/tensorflow/python/keras/engine/training.py:795 train_step\n        y_pred = self(x, training=True)\n    /usr/local/lib/python3.7/dist-packages/tensorflow/python/keras/engine/base_layer.py:1013 __call__\n        input_spec.assert_input_compatibility(self.input_spec, inputs, self.name)\n    /usr/local/lib/python3.7/dist-packages/tensorflow/python/keras/engine/input_spec.py:255 assert_input_compatibility\n        ' but received input with shape ' + display_shape(x.shape))\n\n    ValueError: Input 0 of layer sequential_2 is incompatible with the layer: expected axis -1 of input shape to have value 2 but received input with shape (None, 1)\n"
          ]
        }
      ]
    },
    {
      "cell_type": "markdown",
      "metadata": {
        "id": "z5J5lfF5MviH"
      },
      "source": [
        "Model has to be compiled for regression instead of binary classification"
      ]
    },
    {
      "cell_type": "code",
      "metadata": {
        "colab": {
          "base_uri": "https://localhost:8080/"
        },
        "id": "32I_qPJGNmp-",
        "outputId": "48b2a958-18fb-4d06-e663-eadaeefda1c9"
      },
      "source": [
        "# Set random seed\n",
        "tf.random.set_seed(18)\n",
        "\n",
        "# Create model\n",
        "model_4 = tf.keras.Sequential([\n",
        "  tf.keras.layers.Dense(100), \n",
        "  tf.keras.layers.Dense(10),\n",
        "  tf.keras.layers.Dense(1)                           \n",
        "])\n",
        "\n",
        "# Compile model, this time with regression-specific loss function\n",
        "model_4.compile(loss=tf.keras.losses.mae,\n",
        "                optimizer=tf.keras.optimizers.Adam(),\n",
        "                metrics=['mae'])\n",
        "# Fit model\n",
        "model_4.fit(X_reg_train, y_reg_train, epochs=100)"
      ],
      "execution_count": 21,
      "outputs": [
        {
          "output_type": "stream",
          "text": [
            "Epoch 1/100\n",
            "5/5 [==============================] - 0s 3ms/step - loss: 604.5295 - mae: 604.5295\n",
            "Epoch 2/100\n",
            "5/5 [==============================] - 0s 3ms/step - loss: 498.6613 - mae: 498.6613\n",
            "Epoch 3/100\n",
            "5/5 [==============================] - 0s 3ms/step - loss: 395.2053 - mae: 395.2053\n",
            "Epoch 4/100\n",
            "5/5 [==============================] - 0s 3ms/step - loss: 291.3028 - mae: 291.3028\n",
            "Epoch 5/100\n",
            "5/5 [==============================] - 0s 3ms/step - loss: 184.3638 - mae: 184.3638\n",
            "Epoch 6/100\n",
            "5/5 [==============================] - 0s 3ms/step - loss: 78.8259 - mae: 78.8259\n",
            "Epoch 7/100\n",
            "5/5 [==============================] - 0s 3ms/step - loss: 62.5050 - mae: 62.5050\n",
            "Epoch 8/100\n",
            "5/5 [==============================] - 0s 3ms/step - loss: 82.7695 - mae: 82.7695\n",
            "Epoch 9/100\n",
            "5/5 [==============================] - 0s 5ms/step - loss: 65.9174 - mae: 65.9174\n",
            "Epoch 10/100\n",
            "5/5 [==============================] - 0s 3ms/step - loss: 43.4713 - mae: 43.4713\n",
            "Epoch 11/100\n",
            "5/5 [==============================] - 0s 3ms/step - loss: 51.5291 - mae: 51.5291\n",
            "Epoch 12/100\n",
            "5/5 [==============================] - 0s 3ms/step - loss: 43.9547 - mae: 43.9547\n",
            "Epoch 13/100\n",
            "5/5 [==============================] - 0s 4ms/step - loss: 44.5787 - mae: 44.5787\n",
            "Epoch 14/100\n",
            "5/5 [==============================] - 0s 3ms/step - loss: 41.6841 - mae: 41.6841\n",
            "Epoch 15/100\n",
            "5/5 [==============================] - 0s 3ms/step - loss: 43.2608 - mae: 43.2608\n",
            "Epoch 16/100\n",
            "5/5 [==============================] - 0s 4ms/step - loss: 41.6231 - mae: 41.6231\n",
            "Epoch 17/100\n",
            "5/5 [==============================] - 0s 3ms/step - loss: 42.1013 - mae: 42.1013\n",
            "Epoch 18/100\n",
            "5/5 [==============================] - 0s 3ms/step - loss: 41.8479 - mae: 41.8479\n",
            "Epoch 19/100\n",
            "5/5 [==============================] - 0s 3ms/step - loss: 41.6172 - mae: 41.6172\n",
            "Epoch 20/100\n",
            "5/5 [==============================] - 0s 4ms/step - loss: 41.6355 - mae: 41.6355\n",
            "Epoch 21/100\n",
            "5/5 [==============================] - 0s 3ms/step - loss: 41.4282 - mae: 41.4282\n",
            "Epoch 22/100\n",
            "5/5 [==============================] - 0s 3ms/step - loss: 41.2655 - mae: 41.2655\n",
            "Epoch 23/100\n",
            "5/5 [==============================] - 0s 5ms/step - loss: 41.3639 - mae: 41.3639\n",
            "Epoch 24/100\n",
            "5/5 [==============================] - 0s 2ms/step - loss: 41.0344 - mae: 41.0344\n",
            "Epoch 25/100\n",
            "5/5 [==============================] - 0s 4ms/step - loss: 41.4106 - mae: 41.4106\n",
            "Epoch 26/100\n",
            "5/5 [==============================] - 0s 3ms/step - loss: 41.1981 - mae: 41.1981\n",
            "Epoch 27/100\n",
            "5/5 [==============================] - 0s 3ms/step - loss: 41.5290 - mae: 41.5290\n",
            "Epoch 28/100\n",
            "5/5 [==============================] - 0s 4ms/step - loss: 41.2149 - mae: 41.2149\n",
            "Epoch 29/100\n",
            "5/5 [==============================] - 0s 3ms/step - loss: 41.1460 - mae: 41.1460\n",
            "Epoch 30/100\n",
            "5/5 [==============================] - 0s 3ms/step - loss: 41.1585 - mae: 41.1585\n",
            "Epoch 31/100\n",
            "5/5 [==============================] - 0s 4ms/step - loss: 40.9832 - mae: 40.9832\n",
            "Epoch 32/100\n",
            "5/5 [==============================] - 0s 3ms/step - loss: 40.9654 - mae: 40.9654\n",
            "Epoch 33/100\n",
            "5/5 [==============================] - 0s 4ms/step - loss: 40.7740 - mae: 40.7740\n",
            "Epoch 34/100\n",
            "5/5 [==============================] - 0s 3ms/step - loss: 40.8457 - mae: 40.8457\n",
            "Epoch 35/100\n",
            "5/5 [==============================] - 0s 3ms/step - loss: 40.7870 - mae: 40.7870\n",
            "Epoch 36/100\n",
            "5/5 [==============================] - 0s 3ms/step - loss: 40.7668 - mae: 40.7668\n",
            "Epoch 37/100\n",
            "5/5 [==============================] - 0s 3ms/step - loss: 40.7038 - mae: 40.7038\n",
            "Epoch 38/100\n",
            "5/5 [==============================] - 0s 4ms/step - loss: 40.7507 - mae: 40.7507\n",
            "Epoch 39/100\n",
            "5/5 [==============================] - 0s 3ms/step - loss: 40.8181 - mae: 40.8181\n",
            "Epoch 40/100\n",
            "5/5 [==============================] - 0s 3ms/step - loss: 40.7684 - mae: 40.7684\n",
            "Epoch 41/100\n",
            "5/5 [==============================] - 0s 3ms/step - loss: 40.6436 - mae: 40.6436\n",
            "Epoch 42/100\n",
            "5/5 [==============================] - 0s 2ms/step - loss: 40.8173 - mae: 40.8173\n",
            "Epoch 43/100\n",
            "5/5 [==============================] - 0s 3ms/step - loss: 40.4767 - mae: 40.4767\n",
            "Epoch 44/100\n",
            "5/5 [==============================] - 0s 3ms/step - loss: 40.9685 - mae: 40.9685\n",
            "Epoch 45/100\n",
            "5/5 [==============================] - 0s 3ms/step - loss: 40.6424 - mae: 40.6424\n",
            "Epoch 46/100\n",
            "5/5 [==============================] - 0s 3ms/step - loss: 40.4486 - mae: 40.4486\n",
            "Epoch 47/100\n",
            "5/5 [==============================] - 0s 2ms/step - loss: 40.7424 - mae: 40.7424\n",
            "Epoch 48/100\n",
            "5/5 [==============================] - 0s 3ms/step - loss: 40.5883 - mae: 40.5883\n",
            "Epoch 49/100\n",
            "5/5 [==============================] - 0s 4ms/step - loss: 40.6025 - mae: 40.6025\n",
            "Epoch 50/100\n",
            "5/5 [==============================] - 0s 4ms/step - loss: 40.3103 - mae: 40.3103\n",
            "Epoch 51/100\n",
            "5/5 [==============================] - 0s 4ms/step - loss: 40.3549 - mae: 40.3549\n",
            "Epoch 52/100\n",
            "5/5 [==============================] - 0s 3ms/step - loss: 40.3038 - mae: 40.3038\n",
            "Epoch 53/100\n",
            "5/5 [==============================] - 0s 3ms/step - loss: 40.6712 - mae: 40.6712\n",
            "Epoch 54/100\n",
            "5/5 [==============================] - 0s 3ms/step - loss: 40.2637 - mae: 40.2637\n",
            "Epoch 55/100\n",
            "5/5 [==============================] - 0s 3ms/step - loss: 40.6245 - mae: 40.6245\n",
            "Epoch 56/100\n",
            "5/5 [==============================] - 0s 4ms/step - loss: 40.5178 - mae: 40.5178\n",
            "Epoch 57/100\n",
            "5/5 [==============================] - 0s 6ms/step - loss: 41.0439 - mae: 41.0439\n",
            "Epoch 58/100\n",
            "5/5 [==============================] - 0s 3ms/step - loss: 40.5749 - mae: 40.5749\n",
            "Epoch 59/100\n",
            "5/5 [==============================] - 0s 4ms/step - loss: 40.3877 - mae: 40.3877\n",
            "Epoch 60/100\n",
            "5/5 [==============================] - 0s 4ms/step - loss: 40.4738 - mae: 40.4738\n",
            "Epoch 61/100\n",
            "5/5 [==============================] - 0s 3ms/step - loss: 40.7304 - mae: 40.7304\n",
            "Epoch 62/100\n",
            "5/5 [==============================] - 0s 5ms/step - loss: 40.4061 - mae: 40.4061\n",
            "Epoch 63/100\n",
            "5/5 [==============================] - 0s 4ms/step - loss: 40.5085 - mae: 40.5085\n",
            "Epoch 64/100\n",
            "5/5 [==============================] - 0s 3ms/step - loss: 39.9774 - mae: 39.9774\n",
            "Epoch 65/100\n",
            "5/5 [==============================] - 0s 4ms/step - loss: 39.8805 - mae: 39.8805\n",
            "Epoch 66/100\n",
            "5/5 [==============================] - 0s 3ms/step - loss: 39.9611 - mae: 39.9611\n",
            "Epoch 67/100\n",
            "5/5 [==============================] - 0s 3ms/step - loss: 39.8342 - mae: 39.8342\n",
            "Epoch 68/100\n",
            "5/5 [==============================] - 0s 3ms/step - loss: 40.0247 - mae: 40.0247\n",
            "Epoch 69/100\n",
            "5/5 [==============================] - 0s 3ms/step - loss: 39.8601 - mae: 39.8601\n",
            "Epoch 70/100\n",
            "5/5 [==============================] - 0s 3ms/step - loss: 40.1187 - mae: 40.1187\n",
            "Epoch 71/100\n",
            "5/5 [==============================] - 0s 3ms/step - loss: 39.8540 - mae: 39.8540\n",
            "Epoch 72/100\n",
            "5/5 [==============================] - 0s 4ms/step - loss: 39.7698 - mae: 39.7698\n",
            "Epoch 73/100\n",
            "5/5 [==============================] - 0s 4ms/step - loss: 39.8579 - mae: 39.8579\n",
            "Epoch 74/100\n",
            "5/5 [==============================] - 0s 4ms/step - loss: 39.4430 - mae: 39.4430\n",
            "Epoch 75/100\n",
            "5/5 [==============================] - 0s 3ms/step - loss: 39.7468 - mae: 39.7468\n",
            "Epoch 76/100\n",
            "5/5 [==============================] - 0s 4ms/step - loss: 39.9757 - mae: 39.9757\n",
            "Epoch 77/100\n",
            "5/5 [==============================] - 0s 4ms/step - loss: 39.3692 - mae: 39.3692\n",
            "Epoch 78/100\n",
            "5/5 [==============================] - 0s 3ms/step - loss: 39.6448 - mae: 39.6448\n",
            "Epoch 79/100\n",
            "5/5 [==============================] - 0s 4ms/step - loss: 39.6925 - mae: 39.6925\n",
            "Epoch 80/100\n",
            "5/5 [==============================] - 0s 5ms/step - loss: 39.2952 - mae: 39.2952\n",
            "Epoch 81/100\n",
            "5/5 [==============================] - 0s 4ms/step - loss: 39.3175 - mae: 39.3175\n",
            "Epoch 82/100\n",
            "5/5 [==============================] - 0s 3ms/step - loss: 39.2211 - mae: 39.2211\n",
            "Epoch 83/100\n",
            "5/5 [==============================] - 0s 3ms/step - loss: 39.3441 - mae: 39.3441\n",
            "Epoch 84/100\n",
            "5/5 [==============================] - 0s 4ms/step - loss: 39.1889 - mae: 39.1889\n",
            "Epoch 85/100\n",
            "5/5 [==============================] - 0s 3ms/step - loss: 39.1550 - mae: 39.1550\n",
            "Epoch 86/100\n",
            "5/5 [==============================] - 0s 3ms/step - loss: 39.3380 - mae: 39.3380\n",
            "Epoch 87/100\n",
            "5/5 [==============================] - 0s 3ms/step - loss: 39.2520 - mae: 39.2520\n",
            "Epoch 88/100\n",
            "5/5 [==============================] - 0s 3ms/step - loss: 39.0706 - mae: 39.0706\n",
            "Epoch 89/100\n",
            "5/5 [==============================] - 0s 3ms/step - loss: 39.2580 - mae: 39.2580\n",
            "Epoch 90/100\n",
            "5/5 [==============================] - 0s 3ms/step - loss: 39.9895 - mae: 39.9895\n",
            "Epoch 91/100\n",
            "5/5 [==============================] - 0s 4ms/step - loss: 39.1324 - mae: 39.1324\n",
            "Epoch 92/100\n",
            "5/5 [==============================] - 0s 5ms/step - loss: 39.3323 - mae: 39.3323\n",
            "Epoch 93/100\n",
            "5/5 [==============================] - 0s 4ms/step - loss: 39.4104 - mae: 39.4104\n",
            "Epoch 94/100\n",
            "5/5 [==============================] - 0s 3ms/step - loss: 39.1823 - mae: 39.1823\n",
            "Epoch 95/100\n",
            "5/5 [==============================] - 0s 3ms/step - loss: 38.7535 - mae: 38.7535\n",
            "Epoch 96/100\n",
            "5/5 [==============================] - 0s 4ms/step - loss: 39.5821 - mae: 39.5821\n",
            "Epoch 97/100\n",
            "5/5 [==============================] - 0s 5ms/step - loss: 38.5778 - mae: 38.5778\n",
            "Epoch 98/100\n",
            "5/5 [==============================] - 0s 3ms/step - loss: 38.7465 - mae: 38.7465\n",
            "Epoch 99/100\n",
            "5/5 [==============================] - 0s 3ms/step - loss: 38.5923 - mae: 38.5923\n",
            "Epoch 100/100\n",
            "5/5 [==============================] - 0s 3ms/step - loss: 38.5310 - mae: 38.5310\n"
          ],
          "name": "stdout"
        },
        {
          "output_type": "execute_result",
          "data": {
            "text/plain": [
              "<tensorflow.python.keras.callbacks.History at 0x7f46dc9e4d50>"
            ]
          },
          "metadata": {
            "tags": []
          },
          "execution_count": 21
        }
      ]
    },
    {
      "cell_type": "code",
      "metadata": {
        "colab": {
          "base_uri": "https://localhost:8080/",
          "height": 428
        },
        "id": "BKENziCrOdEP",
        "outputId": "76996a7b-215f-49d5-ada9-7a1fe8e577aa"
      },
      "source": [
        "# Make predictions with trained model\n",
        "y_reg_preds = model_4.predict(X_reg_test)\n",
        "\n",
        "# Plot model predictions against regression data\n",
        "plt.figure(figsize=(10,7))\n",
        "plt.scatter(X_reg_train, y_reg_train, c='b', label='Training data')\n",
        "plt.scatter(X_reg_test, y_reg_test, c='g', label='Test data')\n",
        "plt.scatter(X_reg_test, y_reg_preds, c='r', label='predictions')\n",
        "plt.legend();"
      ],
      "execution_count": 22,
      "outputs": [
        {
          "output_type": "display_data",
          "data": {
            "image/png": "[encoded data removed]",
            "text/plain": [
              "<Figure size 720x504 with 1 Axes>"
            ]
          },
          "metadata": {
            "tags": [],
            "needs_background": "light"
          }
        }
      ]
    },
    {
      "cell_type": "markdown",
      "metadata": {
        "id": "4odY42s1PGG_"
      },
      "source": [
        "## Non-linearity"
      ]
    },
    {
      "cell_type": "code",
      "metadata": {
        "colab": {
          "base_uri": "https://localhost:8080/"
        },
        "id": "0qxz1RVRPgNm",
        "outputId": "4dc19dd0-d5b9-4580-a31e-309cab21b601"
      },
      "source": [
        "# Set random seed\n",
        "tf.random.set_seed(18)\n",
        "\n",
        "# Create model\n",
        "model_5 = tf.keras.Sequential([\n",
        " tf.keras.layers.Dense(1, activation=tf.keras.activations.linear)\n",
        "])\n",
        "\n",
        "# Compile model\n",
        "model_5.compile(loss=tf.keras.losses.binary_crossentropy,\n",
        "                optimizer=tf.keras.optimizers.Adam(learning_rate=0.001),\n",
        "                metrics=['accuracy']\n",
        ")\n",
        "\n",
        "# Fit model\n",
        "history = model_5.fit(X,y,epochs=100)"
      ],
      "execution_count": 28,
      "outputs": [
        {
          "output_type": "stream",
          "text": [
            "Epoch 1/100\n",
            "32/32 [==============================] - 0s 1ms/step - loss: 6.0198 - accuracy: 0.4840\n",
            "Epoch 2/100\n",
            "32/32 [==============================] - 0s 1ms/step - loss: 6.0055 - accuracy: 0.4850\n",
            "Epoch 3/100\n",
            "32/32 [==============================] - 0s 1ms/step - loss: 6.0022 - accuracy: 0.4850\n",
            "Epoch 4/100\n",
            "32/32 [==============================] - 0s 992us/step - loss: 5.9888 - accuracy: 0.4850\n",
            "Epoch 5/100\n",
            "32/32 [==============================] - 0s 995us/step - loss: 5.9865 - accuracy: 0.4850\n",
            "Epoch 6/100\n",
            "32/32 [==============================] - 0s 1ms/step - loss: 5.9753 - accuracy: 0.4840\n",
            "Epoch 7/100\n",
            "32/32 [==============================] - 0s 1ms/step - loss: 5.9712 - accuracy: 0.4850\n",
            "Epoch 8/100\n",
            "32/32 [==============================] - 0s 1ms/step - loss: 5.9628 - accuracy: 0.4850\n",
            "Epoch 9/100\n",
            "32/32 [==============================] - 0s 1ms/step - loss: 5.9082 - accuracy: 0.4860\n",
            "Epoch 10/100\n",
            "32/32 [==============================] - 0s 1ms/step - loss: 5.8681 - accuracy: 0.4850\n",
            "Epoch 11/100\n",
            "32/32 [==============================] - 0s 1ms/step - loss: 5.8625 - accuracy: 0.4850\n",
            "Epoch 12/100\n",
            "32/32 [==============================] - 0s 976us/step - loss: 5.8613 - accuracy: 0.4850\n",
            "Epoch 13/100\n",
            "32/32 [==============================] - 0s 1ms/step - loss: 5.8604 - accuracy: 0.4850\n",
            "Epoch 14/100\n",
            "32/32 [==============================] - 0s 1ms/step - loss: 5.8595 - accuracy: 0.4850\n",
            "Epoch 15/100\n",
            "32/32 [==============================] - 0s 1ms/step - loss: 5.8586 - accuracy: 0.4850\n",
            "Epoch 16/100\n",
            "32/32 [==============================] - 0s 973us/step - loss: 5.8580 - accuracy: 0.4850\n",
            "Epoch 17/100\n",
            "32/32 [==============================] - 0s 1ms/step - loss: 5.8572 - accuracy: 0.4850\n",
            "Epoch 18/100\n",
            "32/32 [==============================] - 0s 1ms/step - loss: 5.8564 - accuracy: 0.4850\n",
            "Epoch 19/100\n",
            "32/32 [==============================] - 0s 1ms/step - loss: 5.8557 - accuracy: 0.4850\n",
            "Epoch 20/100\n",
            "32/32 [==============================] - 0s 1ms/step - loss: 5.8550 - accuracy: 0.4850\n",
            "Epoch 21/100\n",
            "32/32 [==============================] - 0s 1ms/step - loss: 5.8544 - accuracy: 0.4850\n",
            "Epoch 22/100\n",
            "32/32 [==============================] - 0s 1ms/step - loss: 5.8456 - accuracy: 0.4850\n",
            "Epoch 23/100\n",
            "32/32 [==============================] - 0s 1ms/step - loss: 5.8425 - accuracy: 0.4850\n",
            "Epoch 24/100\n",
            "32/32 [==============================] - 0s 1ms/step - loss: 5.8415 - accuracy: 0.4850\n",
            "Epoch 25/100\n",
            "32/32 [==============================] - 0s 1ms/step - loss: 5.8406 - accuracy: 0.4850\n",
            "Epoch 26/100\n",
            "32/32 [==============================] - 0s 1ms/step - loss: 5.8398 - accuracy: 0.4850\n",
            "Epoch 27/100\n",
            "32/32 [==============================] - 0s 1ms/step - loss: 5.8391 - accuracy: 0.4850\n",
            "Epoch 28/100\n",
            "32/32 [==============================] - 0s 1ms/step - loss: 5.8294 - accuracy: 0.4830\n",
            "Epoch 29/100\n",
            "32/32 [==============================] - 0s 1ms/step - loss: 5.8370 - accuracy: 0.4830\n",
            "Epoch 30/100\n",
            "32/32 [==============================] - 0s 1ms/step - loss: 5.8366 - accuracy: 0.4830\n",
            "Epoch 31/100\n",
            "32/32 [==============================] - 0s 1ms/step - loss: 5.8279 - accuracy: 0.4830\n",
            "Epoch 32/100\n",
            "32/32 [==============================] - 0s 1ms/step - loss: 5.8159 - accuracy: 0.4820\n",
            "Epoch 33/100\n",
            "32/32 [==============================] - 0s 1ms/step - loss: 5.8059 - accuracy: 0.4830\n",
            "Epoch 34/100\n",
            "32/32 [==============================] - 0s 1ms/step - loss: 5.8025 - accuracy: 0.4830\n",
            "Epoch 35/100\n",
            "32/32 [==============================] - 0s 1ms/step - loss: 5.7921 - accuracy: 0.4830\n",
            "Epoch 36/100\n",
            "32/32 [==============================] - 0s 1ms/step - loss: 5.7886 - accuracy: 0.4830\n",
            "Epoch 37/100\n",
            "32/32 [==============================] - 0s 1ms/step - loss: 5.7876 - accuracy: 0.4830\n",
            "Epoch 38/100\n",
            "32/32 [==============================] - 0s 1ms/step - loss: 5.7869 - accuracy: 0.4830\n",
            "Epoch 39/100\n",
            "32/32 [==============================] - 0s 1ms/step - loss: 5.7862 - accuracy: 0.4830\n",
            "Epoch 40/100\n",
            "32/32 [==============================] - 0s 1ms/step - loss: 5.7857 - accuracy: 0.4820\n",
            "Epoch 41/100\n",
            "32/32 [==============================] - 0s 1ms/step - loss: 5.7851 - accuracy: 0.4820\n",
            "Epoch 42/100\n",
            "32/32 [==============================] - 0s 1ms/step - loss: 5.7846 - accuracy: 0.4820\n",
            "Epoch 43/100\n",
            "32/32 [==============================] - 0s 1ms/step - loss: 5.7842 - accuracy: 0.4810\n",
            "Epoch 44/100\n",
            "32/32 [==============================] - 0s 1ms/step - loss: 5.7837 - accuracy: 0.4810\n",
            "Epoch 45/100\n",
            "32/32 [==============================] - 0s 1ms/step - loss: 5.7750 - accuracy: 0.4810\n",
            "Epoch 46/100\n",
            "32/32 [==============================] - 0s 1ms/step - loss: 5.7629 - accuracy: 0.4820\n",
            "Epoch 47/100\n",
            "32/32 [==============================] - 0s 1ms/step - loss: 5.7608 - accuracy: 0.4820\n",
            "Epoch 48/100\n",
            "32/32 [==============================] - 0s 1ms/step - loss: 5.7597 - accuracy: 0.4820\n",
            "Epoch 49/100\n",
            "32/32 [==============================] - 0s 1ms/step - loss: 5.7433 - accuracy: 0.4810\n",
            "Epoch 50/100\n",
            "32/32 [==============================] - 0s 1ms/step - loss: 5.6926 - accuracy: 0.4850\n",
            "Epoch 51/100\n",
            "32/32 [==============================] - 0s 1ms/step - loss: 5.6637 - accuracy: 0.4860\n",
            "Epoch 52/100\n",
            "32/32 [==============================] - 0s 1ms/step - loss: 5.6553 - accuracy: 0.4850\n",
            "Epoch 53/100\n",
            "32/32 [==============================] - 0s 1ms/step - loss: 5.6310 - accuracy: 0.4850\n",
            "Epoch 54/100\n",
            "32/32 [==============================] - 0s 1ms/step - loss: 5.6267 - accuracy: 0.4850\n",
            "Epoch 55/100\n",
            "32/32 [==============================] - 0s 1ms/step - loss: 5.6160 - accuracy: 0.4850\n",
            "Epoch 56/100\n",
            "32/32 [==============================] - 0s 1ms/step - loss: 5.6048 - accuracy: 0.4850\n",
            "Epoch 57/100\n",
            "32/32 [==============================] - 0s 1ms/step - loss: 5.5919 - accuracy: 0.4850\n",
            "Epoch 58/100\n",
            "32/32 [==============================] - 0s 1ms/step - loss: 5.5616 - accuracy: 0.4850\n",
            "Epoch 59/100\n",
            "32/32 [==============================] - 0s 1ms/step - loss: 5.5341 - accuracy: 0.4840\n",
            "Epoch 60/100\n",
            "32/32 [==============================] - 0s 1ms/step - loss: 5.5194 - accuracy: 0.4860\n",
            "Epoch 61/100\n",
            "32/32 [==============================] - 0s 1ms/step - loss: 5.5059 - accuracy: 0.4860\n",
            "Epoch 62/100\n",
            "32/32 [==============================] - 0s 1ms/step - loss: 5.5027 - accuracy: 0.4860\n",
            "Epoch 63/100\n",
            "32/32 [==============================] - 0s 1ms/step - loss: 5.5005 - accuracy: 0.4860\n",
            "Epoch 64/100\n",
            "32/32 [==============================] - 0s 1ms/step - loss: 5.4831 - accuracy: 0.4850\n",
            "Epoch 65/100\n",
            "32/32 [==============================] - 0s 2ms/step - loss: 5.4509 - accuracy: 0.4820\n",
            "Epoch 66/100\n",
            "32/32 [==============================] - 0s 1ms/step - loss: 5.4279 - accuracy: 0.4820\n",
            "Epoch 67/100\n",
            "32/32 [==============================] - 0s 1ms/step - loss: 5.4219 - accuracy: 0.4820\n",
            "Epoch 68/100\n",
            "32/32 [==============================] - 0s 1ms/step - loss: 5.2634 - accuracy: 0.4840\n",
            "Epoch 69/100\n",
            "32/32 [==============================] - 0s 1ms/step - loss: 5.2354 - accuracy: 0.4830\n",
            "Epoch 70/100\n",
            "32/32 [==============================] - 0s 1ms/step - loss: 5.2194 - accuracy: 0.4800\n",
            "Epoch 71/100\n",
            "32/32 [==============================] - 0s 1ms/step - loss: 5.2180 - accuracy: 0.4800\n",
            "Epoch 72/100\n",
            "32/32 [==============================] - 0s 1ms/step - loss: 5.2173 - accuracy: 0.4810\n",
            "Epoch 73/100\n",
            "32/32 [==============================] - 0s 1ms/step - loss: 5.2168 - accuracy: 0.4810\n",
            "Epoch 74/100\n",
            "32/32 [==============================] - 0s 1ms/step - loss: 5.2163 - accuracy: 0.4810\n",
            "Epoch 75/100\n",
            "32/32 [==============================] - 0s 1ms/step - loss: 5.2158 - accuracy: 0.4810\n",
            "Epoch 76/100\n",
            "32/32 [==============================] - 0s 1ms/step - loss: 5.2153 - accuracy: 0.4800\n",
            "Epoch 77/100\n",
            "32/32 [==============================] - 0s 1ms/step - loss: 5.2149 - accuracy: 0.4800\n",
            "Epoch 78/100\n",
            "32/32 [==============================] - 0s 1ms/step - loss: 5.2145 - accuracy: 0.4800\n",
            "Epoch 79/100\n",
            "32/32 [==============================] - 0s 1ms/step - loss: 5.2140 - accuracy: 0.4800\n",
            "Epoch 80/100\n",
            "32/32 [==============================] - 0s 1ms/step - loss: 5.2135 - accuracy: 0.4800\n",
            "Epoch 81/100\n",
            "32/32 [==============================] - 0s 1ms/step - loss: 5.2131 - accuracy: 0.4800\n",
            "Epoch 82/100\n",
            "32/32 [==============================] - 0s 1ms/step - loss: 5.2127 - accuracy: 0.4800\n",
            "Epoch 83/100\n",
            "32/32 [==============================] - 0s 1ms/step - loss: 5.2123 - accuracy: 0.4810\n",
            "Epoch 84/100\n",
            "32/32 [==============================] - 0s 1ms/step - loss: 5.2119 - accuracy: 0.4810\n",
            "Epoch 85/100\n",
            "32/32 [==============================] - 0s 1ms/step - loss: 5.1785 - accuracy: 0.4800\n",
            "Epoch 86/100\n",
            "32/32 [==============================] - 0s 1ms/step - loss: 5.1702 - accuracy: 0.4790\n",
            "Epoch 87/100\n",
            "32/32 [==============================] - 0s 1ms/step - loss: 5.1673 - accuracy: 0.4780\n",
            "Epoch 88/100\n",
            "32/32 [==============================] - 0s 1ms/step - loss: 5.1663 - accuracy: 0.4780\n",
            "Epoch 89/100\n",
            "32/32 [==============================] - 0s 1ms/step - loss: 5.1655 - accuracy: 0.4780\n",
            "Epoch 90/100\n",
            "32/32 [==============================] - 0s 1ms/step - loss: 5.1647 - accuracy: 0.4780\n",
            "Epoch 91/100\n",
            "32/32 [==============================] - 0s 1ms/step - loss: 5.1563 - accuracy: 0.4780\n",
            "Epoch 92/100\n",
            "32/32 [==============================] - 0s 1ms/step - loss: 5.1459 - accuracy: 0.4780\n",
            "Epoch 93/100\n",
            "32/32 [==============================] - 0s 2ms/step - loss: 5.1350 - accuracy: 0.4770\n",
            "Epoch 94/100\n",
            "32/32 [==============================] - 0s 1ms/step - loss: 5.1140 - accuracy: 0.4770\n",
            "Epoch 95/100\n",
            "32/32 [==============================] - 0s 1ms/step - loss: 5.0616 - accuracy: 0.4760\n",
            "Epoch 96/100\n",
            "32/32 [==============================] - 0s 1ms/step - loss: 5.0567 - accuracy: 0.4760\n",
            "Epoch 97/100\n",
            "32/32 [==============================] - 0s 1ms/step - loss: 5.0543 - accuracy: 0.4770\n",
            "Epoch 98/100\n",
            "32/32 [==============================] - 0s 1ms/step - loss: 5.0526 - accuracy: 0.4770\n",
            "Epoch 99/100\n",
            "32/32 [==============================] - 0s 1ms/step - loss: 5.0514 - accuracy: 0.4770\n",
            "Epoch 100/100\n",
            "32/32 [==============================] - 0s 1ms/step - loss: 5.0501 - accuracy: 0.4770\n"
          ],
          "name": "stdout"
        }
      ]
    },
    {
      "cell_type": "code",
      "metadata": {
        "colab": {
          "base_uri": "https://localhost:8080/",
          "height": 265
        },
        "id": "xw8yP2q-SFQI",
        "outputId": "2aed4d55-61eb-472e-ebba-dde5aff00ae3"
      },
      "source": [
        "# Check out data\n",
        "plt.scatter(X[:, 0], X[:, 1], c=y, cmap=plt.cm.RdYlBu);"
      ],
      "execution_count": 31,
      "outputs": [
        {
          "output_type": "display_data",
          "data": {
            "image/png": "[encoded data removed]",
            "text/plain": [
              "<Figure size 432x288 with 1 Axes>"
            ]
          },
          "metadata": {
            "tags": [],
            "needs_background": "light"
          }
        }
      ]
    },
    {
      "cell_type": "code",
      "metadata": {
        "colab": {
          "base_uri": "https://localhost:8080/",
          "height": 302
        },
        "id": "Y7XJ1P7vSzWP",
        "outputId": "c7aac2c8-ea36-4937-e674-52aa95b81bb7"
      },
      "source": [
        "# Check desision boundary for latest function\n",
        "plot_decision_boundary(model=model_5,\n",
        "                       X=X,\n",
        "                       y=y)"
      ],
      "execution_count": 32,
      "outputs": [
        {
          "output_type": "stream",
          "text": [
            "Doing binary classification\n",
            "\n"
          ],
          "name": "stdout"
        },
        {
          "output_type": "display_data",
          "data": {
            "image/png": "[encoded data removed]",
            "text/plain": [
              "<Figure size 432x288 with 1 Axes>"
            ]
          },
          "metadata": {
            "tags": [],
            "needs_background": "light"
          }
        }
      ]
    },
    {
      "cell_type": "markdown",
      "metadata": {
        "id": "u-D51Z8rTP8u"
      },
      "source": [
        "Let's try to build our first neural network with a non-linear activation function"
      ]
    },
    {
      "cell_type": "code",
      "metadata": {
        "colab": {
          "base_uri": "https://localhost:8080/"
        },
        "id": "Suu3KyEsUPrG",
        "outputId": "b25ce246-8ef7-4e79-fcc8-964ebb0ecda4"
      },
      "source": [
        "# Set random seed\n",
        "tf.random.set_seed(18)\n",
        "\n",
        "# Create a model\n",
        "model_6 = tf.keras.Sequential([\n",
        "  tf.keras.layers.Dense(1, activation=tf.keras.activations.relu)                             \n",
        "])\n",
        "\n",
        "# Compile model\n",
        "model_6.compile(loss=tf.keras.losses.BinaryCrossentropy(),\n",
        "                optimizer=tf.keras.optimizers.Adam(learning_rate=0.001),\n",
        "                metrics=['accuracy'])\n",
        "\n",
        "# Fit model\n",
        "\n",
        "history = model_6.fit(X, y, epochs=100)"
      ],
      "execution_count": 33,
      "outputs": [
        {
          "output_type": "stream",
          "text": [
            "Epoch 1/100\n",
            "32/32 [==============================] - 1s 1ms/step - loss: 6.0198 - accuracy: 0.4840\n",
            "Epoch 2/100\n",
            "32/32 [==============================] - 0s 1ms/step - loss: 6.0055 - accuracy: 0.4850\n",
            "Epoch 3/100\n",
            "32/32 [==============================] - 0s 954us/step - loss: 6.0022 - accuracy: 0.4850\n",
            "Epoch 4/100\n",
            "32/32 [==============================] - 0s 1ms/step - loss: 5.9888 - accuracy: 0.4850\n",
            "Epoch 5/100\n",
            "32/32 [==============================] - 0s 1ms/step - loss: 5.9865 - accuracy: 0.4850\n",
            "Epoch 6/100\n",
            "32/32 [==============================] - 0s 986us/step - loss: 5.9753 - accuracy: 0.4840\n",
            "Epoch 7/100\n",
            "32/32 [==============================] - 0s 1ms/step - loss: 5.9712 - accuracy: 0.4850\n",
            "Epoch 8/100\n",
            "32/32 [==============================] - 0s 1ms/step - loss: 5.9628 - accuracy: 0.4850\n",
            "Epoch 9/100\n",
            "32/32 [==============================] - 0s 986us/step - loss: 5.9082 - accuracy: 0.4860\n",
            "Epoch 10/100\n",
            "32/32 [==============================] - 0s 1ms/step - loss: 5.8681 - accuracy: 0.4850\n",
            "Epoch 11/100\n",
            "32/32 [==============================] - 0s 1ms/step - loss: 5.8625 - accuracy: 0.4850\n",
            "Epoch 12/100\n",
            "32/32 [==============================] - 0s 1ms/step - loss: 5.8613 - accuracy: 0.4850\n",
            "Epoch 13/100\n",
            "32/32 [==============================] - 0s 1ms/step - loss: 5.8604 - accuracy: 0.4850\n",
            "Epoch 14/100\n",
            "32/32 [==============================] - 0s 1ms/step - loss: 5.8595 - accuracy: 0.4850\n",
            "Epoch 15/100\n",
            "32/32 [==============================] - 0s 1ms/step - loss: 5.8586 - accuracy: 0.4850\n",
            "Epoch 16/100\n",
            "32/32 [==============================] - 0s 1ms/step - loss: 5.8580 - accuracy: 0.4850\n",
            "Epoch 17/100\n",
            "32/32 [==============================] - 0s 1ms/step - loss: 5.8572 - accuracy: 0.4850\n",
            "Epoch 18/100\n",
            "32/32 [==============================] - 0s 1ms/step - loss: 5.8564 - accuracy: 0.4850\n",
            "Epoch 19/100\n",
            "32/32 [==============================] - 0s 1ms/step - loss: 5.8557 - accuracy: 0.4850\n",
            "Epoch 20/100\n",
            "32/32 [==============================] - 0s 1ms/step - loss: 5.8550 - accuracy: 0.4850\n",
            "Epoch 21/100\n",
            "32/32 [==============================] - 0s 1ms/step - loss: 5.8544 - accuracy: 0.4850\n",
            "Epoch 22/100\n",
            "32/32 [==============================] - 0s 1ms/step - loss: 5.8456 - accuracy: 0.4850\n",
            "Epoch 23/100\n",
            "32/32 [==============================] - 0s 1ms/step - loss: 5.8425 - accuracy: 0.4850\n",
            "Epoch 24/100\n",
            "32/32 [==============================] - 0s 1ms/step - loss: 5.8415 - accuracy: 0.4850\n",
            "Epoch 25/100\n",
            "32/32 [==============================] - 0s 1ms/step - loss: 5.8406 - accuracy: 0.4850\n",
            "Epoch 26/100\n",
            "32/32 [==============================] - 0s 1ms/step - loss: 5.8398 - accuracy: 0.4850\n",
            "Epoch 27/100\n",
            "32/32 [==============================] - 0s 2ms/step - loss: 5.8391 - accuracy: 0.4850\n",
            "Epoch 28/100\n",
            "32/32 [==============================] - 0s 1ms/step - loss: 5.8294 - accuracy: 0.4830\n",
            "Epoch 29/100\n",
            "32/32 [==============================] - 0s 1ms/step - loss: 5.8370 - accuracy: 0.4830\n",
            "Epoch 30/100\n",
            "32/32 [==============================] - 0s 1ms/step - loss: 5.8366 - accuracy: 0.4830\n",
            "Epoch 31/100\n",
            "32/32 [==============================] - 0s 1ms/step - loss: 5.8279 - accuracy: 0.4830\n",
            "Epoch 32/100\n",
            "32/32 [==============================] - 0s 1ms/step - loss: 5.8159 - accuracy: 0.4820\n",
            "Epoch 33/100\n",
            "32/32 [==============================] - 0s 1ms/step - loss: 5.8059 - accuracy: 0.4830\n",
            "Epoch 34/100\n",
            "32/32 [==============================] - 0s 1ms/step - loss: 5.8025 - accuracy: 0.4830\n",
            "Epoch 35/100\n",
            "32/32 [==============================] - 0s 1ms/step - loss: 5.7921 - accuracy: 0.4830\n",
            "Epoch 36/100\n",
            "32/32 [==============================] - 0s 1ms/step - loss: 5.7886 - accuracy: 0.4830\n",
            "Epoch 37/100\n",
            "32/32 [==============================] - 0s 1ms/step - loss: 5.7876 - accuracy: 0.4830\n",
            "Epoch 38/100\n",
            "32/32 [==============================] - 0s 1ms/step - loss: 5.7869 - accuracy: 0.4830\n",
            "Epoch 39/100\n",
            "32/32 [==============================] - 0s 1ms/step - loss: 5.7862 - accuracy: 0.4830\n",
            "Epoch 40/100\n",
            "32/32 [==============================] - 0s 1ms/step - loss: 5.7857 - accuracy: 0.4820\n",
            "Epoch 41/100\n",
            "32/32 [==============================] - 0s 1ms/step - loss: 5.7851 - accuracy: 0.4820\n",
            "Epoch 42/100\n",
            "32/32 [==============================] - 0s 1ms/step - loss: 5.7846 - accuracy: 0.4820\n",
            "Epoch 43/100\n",
            "32/32 [==============================] - 0s 1ms/step - loss: 5.7842 - accuracy: 0.4810\n",
            "Epoch 44/100\n",
            "32/32 [==============================] - 0s 1ms/step - loss: 5.7837 - accuracy: 0.4810\n",
            "Epoch 45/100\n",
            "32/32 [==============================] - 0s 1ms/step - loss: 5.7750 - accuracy: 0.4810\n",
            "Epoch 46/100\n",
            "32/32 [==============================] - 0s 1ms/step - loss: 5.7629 - accuracy: 0.4820\n",
            "Epoch 47/100\n",
            "32/32 [==============================] - 0s 1ms/step - loss: 5.7608 - accuracy: 0.4820\n",
            "Epoch 48/100\n",
            "32/32 [==============================] - 0s 1ms/step - loss: 5.7597 - accuracy: 0.4820\n",
            "Epoch 49/100\n",
            "32/32 [==============================] - 0s 1ms/step - loss: 5.7433 - accuracy: 0.4810\n",
            "Epoch 50/100\n",
            "32/32 [==============================] - 0s 1ms/step - loss: 5.6926 - accuracy: 0.4850\n",
            "Epoch 51/100\n",
            "32/32 [==============================] - 0s 1ms/step - loss: 5.6637 - accuracy: 0.4860\n",
            "Epoch 52/100\n",
            "32/32 [==============================] - 0s 1ms/step - loss: 5.6553 - accuracy: 0.4850\n",
            "Epoch 53/100\n",
            "32/32 [==============================] - 0s 2ms/step - loss: 5.6310 - accuracy: 0.4850\n",
            "Epoch 54/100\n",
            "32/32 [==============================] - 0s 1ms/step - loss: 5.6267 - accuracy: 0.4850\n",
            "Epoch 55/100\n",
            "32/32 [==============================] - 0s 1ms/step - loss: 5.6160 - accuracy: 0.4850\n",
            "Epoch 56/100\n",
            "32/32 [==============================] - 0s 1ms/step - loss: 5.6048 - accuracy: 0.4850\n",
            "Epoch 57/100\n",
            "32/32 [==============================] - 0s 1ms/step - loss: 5.5919 - accuracy: 0.4850\n",
            "Epoch 58/100\n",
            "32/32 [==============================] - 0s 1ms/step - loss: 5.5616 - accuracy: 0.4850\n",
            "Epoch 59/100\n",
            "32/32 [==============================] - 0s 1ms/step - loss: 5.5341 - accuracy: 0.4840\n",
            "Epoch 60/100\n",
            "32/32 [==============================] - 0s 1ms/step - loss: 5.5194 - accuracy: 0.4860\n",
            "Epoch 61/100\n",
            "32/32 [==============================] - 0s 1ms/step - loss: 5.5059 - accuracy: 0.4860\n",
            "Epoch 62/100\n",
            "32/32 [==============================] - 0s 1ms/step - loss: 5.5027 - accuracy: 0.4860\n",
            "Epoch 63/100\n",
            "32/32 [==============================] - 0s 1ms/step - loss: 5.5005 - accuracy: 0.4860\n",
            "Epoch 64/100\n",
            "32/32 [==============================] - 0s 1ms/step - loss: 5.4831 - accuracy: 0.4850\n",
            "Epoch 65/100\n",
            "32/32 [==============================] - 0s 1ms/step - loss: 5.4509 - accuracy: 0.4820\n",
            "Epoch 66/100\n",
            "32/32 [==============================] - 0s 1ms/step - loss: 5.4279 - accuracy: 0.4820\n",
            "Epoch 67/100\n",
            "32/32 [==============================] - 0s 1ms/step - loss: 5.4219 - accuracy: 0.4820\n",
            "Epoch 68/100\n",
            "32/32 [==============================] - 0s 1ms/step - loss: 5.2634 - accuracy: 0.4840\n",
            "Epoch 69/100\n",
            "32/32 [==============================] - 0s 1ms/step - loss: 5.2354 - accuracy: 0.4830\n",
            "Epoch 70/100\n",
            "32/32 [==============================] - 0s 1ms/step - loss: 5.2194 - accuracy: 0.4800\n",
            "Epoch 71/100\n",
            "32/32 [==============================] - 0s 1ms/step - loss: 5.2180 - accuracy: 0.4800\n",
            "Epoch 72/100\n",
            "32/32 [==============================] - 0s 1ms/step - loss: 5.2173 - accuracy: 0.4810\n",
            "Epoch 73/100\n",
            "32/32 [==============================] - 0s 1ms/step - loss: 5.2168 - accuracy: 0.4810\n",
            "Epoch 74/100\n",
            "32/32 [==============================] - 0s 1ms/step - loss: 5.2163 - accuracy: 0.4810\n",
            "Epoch 75/100\n",
            "32/32 [==============================] - 0s 1ms/step - loss: 5.2158 - accuracy: 0.4810\n",
            "Epoch 76/100\n",
            "32/32 [==============================] - 0s 1ms/step - loss: 5.2153 - accuracy: 0.4800\n",
            "Epoch 77/100\n",
            "32/32 [==============================] - 0s 1ms/step - loss: 5.2149 - accuracy: 0.4800\n",
            "Epoch 78/100\n",
            "32/32 [==============================] - 0s 1ms/step - loss: 5.2145 - accuracy: 0.4800\n",
            "Epoch 79/100\n",
            "32/32 [==============================] - 0s 1ms/step - loss: 5.2140 - accuracy: 0.4800\n",
            "Epoch 80/100\n",
            "32/32 [==============================] - 0s 1ms/step - loss: 5.2135 - accuracy: 0.4800\n",
            "Epoch 81/100\n",
            "32/32 [==============================] - 0s 1ms/step - loss: 5.2131 - accuracy: 0.4800\n",
            "Epoch 82/100\n",
            "32/32 [==============================] - 0s 1ms/step - loss: 5.2127 - accuracy: 0.4800\n",
            "Epoch 83/100\n",
            "32/32 [==============================] - 0s 1ms/step - loss: 5.2123 - accuracy: 0.4810\n",
            "Epoch 84/100\n",
            "32/32 [==============================] - 0s 1ms/step - loss: 5.2119 - accuracy: 0.4810\n",
            "Epoch 85/100\n",
            "32/32 [==============================] - 0s 1ms/step - loss: 5.1785 - accuracy: 0.4800\n",
            "Epoch 86/100\n",
            "32/32 [==============================] - 0s 1ms/step - loss: 5.1702 - accuracy: 0.4790\n",
            "Epoch 87/100\n",
            "32/32 [==============================] - 0s 1ms/step - loss: 5.1673 - accuracy: 0.4780\n",
            "Epoch 88/100\n",
            "32/32 [==============================] - 0s 1ms/step - loss: 5.1663 - accuracy: 0.4780\n",
            "Epoch 89/100\n",
            "32/32 [==============================] - 0s 1ms/step - loss: 5.1655 - accuracy: 0.4780\n",
            "Epoch 90/100\n",
            "32/32 [==============================] - 0s 1ms/step - loss: 5.1647 - accuracy: 0.4780\n",
            "Epoch 91/100\n",
            "32/32 [==============================] - 0s 1ms/step - loss: 5.1563 - accuracy: 0.4780\n",
            "Epoch 92/100\n",
            "32/32 [==============================] - 0s 1ms/step - loss: 5.1459 - accuracy: 0.4780\n",
            "Epoch 93/100\n",
            "32/32 [==============================] - 0s 1ms/step - loss: 5.1350 - accuracy: 0.4770\n",
            "Epoch 94/100\n",
            "32/32 [==============================] - 0s 1ms/step - loss: 5.1140 - accuracy: 0.4770\n",
            "Epoch 95/100\n",
            "32/32 [==============================] - 0s 1ms/step - loss: 5.0616 - accuracy: 0.4760\n",
            "Epoch 96/100\n",
            "32/32 [==============================] - 0s 1ms/step - loss: 5.0567 - accuracy: 0.4760\n",
            "Epoch 97/100\n",
            "32/32 [==============================] - 0s 1ms/step - loss: 5.0543 - accuracy: 0.4770\n",
            "Epoch 98/100\n",
            "32/32 [==============================] - 0s 2ms/step - loss: 5.0526 - accuracy: 0.4770\n",
            "Epoch 99/100\n",
            "32/32 [==============================] - 0s 1ms/step - loss: 5.0514 - accuracy: 0.4770\n",
            "Epoch 100/100\n",
            "32/32 [==============================] - 0s 1ms/step - loss: 5.0501 - accuracy: 0.4770\n"
          ],
          "name": "stdout"
        }
      ]
    },
    {
      "cell_type": "code",
      "metadata": {
        "colab": {
          "base_uri": "https://localhost:8080/"
        },
        "id": "HPI_qN6tVCVu",
        "outputId": "88f73758-9921-4c6a-8038-853ddd6af9eb"
      },
      "source": [
        "# We will try adding extra layers and neurons\n",
        "\n",
        "# Set random seed\n",
        "tf.random.set_seed(18)\n",
        "\n",
        "# Create model\n",
        "model_7 = tf.keras.Sequential([\n",
        "                               tf.keras.layers.Dense(4, activation='relu'),\n",
        "                               tf.keras.layers.Dense(4, activation='relu')\n",
        "                               ])\n",
        "\n",
        "# Compile model\n",
        "model_7.compile(loss='binary_crossentropy',\n",
        "                optimizer=tf.keras.optimizers.Adam(learning_rate=0.001),\n",
        "                metrics=['accuracy'])\n",
        "\n",
        "# Fit model\n",
        "history = model_7.fit(X, y, epochs=250)"
      ],
      "execution_count": 39,
      "outputs": [
        {
          "output_type": "stream",
          "text": [
            "Epoch 1/250\n",
            "32/32 [==============================] - 0s 1ms/step - loss: 4.3098 - accuracy: 0.1720\n",
            "Epoch 2/250\n",
            "32/32 [==============================] - 0s 1ms/step - loss: 4.1124 - accuracy: 0.1590\n",
            "Epoch 3/250\n",
            "32/32 [==============================] - 0s 1ms/step - loss: 3.9236 - accuracy: 0.1560\n",
            "Epoch 4/250\n",
            "32/32 [==============================] - 0s 1ms/step - loss: 3.8011 - accuracy: 0.1520\n",
            "Epoch 5/250\n",
            "32/32 [==============================] - 0s 1ms/step - loss: 3.6837 - accuracy: 0.1440\n",
            "Epoch 6/250\n",
            "32/32 [==============================] - 0s 1ms/step - loss: 3.5856 - accuracy: 0.1430\n",
            "Epoch 7/250\n",
            "32/32 [==============================] - 0s 2ms/step - loss: 3.2774 - accuracy: 0.1350\n",
            "Epoch 8/250\n",
            "32/32 [==============================] - 0s 1ms/step - loss: 3.1990 - accuracy: 0.1390\n",
            "Epoch 9/250\n",
            "32/32 [==============================] - 0s 1ms/step - loss: 3.1851 - accuracy: 0.1390\n",
            "Epoch 10/250\n",
            "32/32 [==============================] - 0s 1ms/step - loss: 3.1416 - accuracy: 0.1310\n",
            "Epoch 11/250\n",
            "32/32 [==============================] - 0s 1ms/step - loss: 3.0768 - accuracy: 0.1240\n",
            "Epoch 12/250\n",
            "32/32 [==============================] - 0s 1ms/step - loss: 3.0504 - accuracy: 0.1200\n",
            "Epoch 13/250\n",
            "32/32 [==============================] - 0s 1ms/step - loss: 2.9094 - accuracy: 0.1200\n",
            "Epoch 14/250\n",
            "32/32 [==============================] - 0s 1ms/step - loss: 2.8014 - accuracy: 0.1180\n",
            "Epoch 15/250\n",
            "32/32 [==============================] - 0s 1ms/step - loss: 2.7856 - accuracy: 0.1190\n",
            "Epoch 16/250\n",
            "32/32 [==============================] - 0s 1ms/step - loss: 2.7459 - accuracy: 0.1220\n",
            "Epoch 17/250\n",
            "32/32 [==============================] - 0s 1ms/step - loss: 2.7239 - accuracy: 0.1270\n",
            "Epoch 18/250\n",
            "32/32 [==============================] - 0s 1ms/step - loss: 2.7064 - accuracy: 0.1340\n",
            "Epoch 19/250\n",
            "32/32 [==============================] - 0s 1ms/step - loss: 2.6996 - accuracy: 0.1350\n",
            "Epoch 20/250\n",
            "32/32 [==============================] - 0s 1ms/step - loss: 2.6903 - accuracy: 0.1400\n",
            "Epoch 21/250\n",
            "32/32 [==============================] - 0s 1ms/step - loss: 2.6801 - accuracy: 0.1430\n",
            "Epoch 22/250\n",
            "32/32 [==============================] - 0s 1ms/step - loss: 2.6728 - accuracy: 0.1480\n",
            "Epoch 23/250\n",
            "32/32 [==============================] - 0s 1ms/step - loss: 2.6628 - accuracy: 0.1480\n",
            "Epoch 24/250\n",
            "32/32 [==============================] - 0s 1ms/step - loss: 2.6560 - accuracy: 0.1530\n",
            "Epoch 25/250\n",
            "32/32 [==============================] - 0s 1ms/step - loss: 2.6103 - accuracy: 0.1540\n",
            "Epoch 26/250\n",
            "32/32 [==============================] - 0s 1ms/step - loss: 2.4170 - accuracy: 0.1570\n",
            "Epoch 27/250\n",
            "32/32 [==============================] - 0s 1ms/step - loss: 2.1929 - accuracy: 0.1680\n",
            "Epoch 28/250\n",
            "32/32 [==============================] - 0s 1ms/step - loss: 1.9083 - accuracy: 0.1760\n",
            "Epoch 29/250\n",
            "32/32 [==============================] - 0s 1ms/step - loss: 1.8829 - accuracy: 0.1840\n",
            "Epoch 30/250\n",
            "32/32 [==============================] - 0s 1ms/step - loss: 1.8732 - accuracy: 0.1890\n",
            "Epoch 31/250\n",
            "32/32 [==============================] - 0s 1ms/step - loss: 1.8611 - accuracy: 0.2440\n",
            "Epoch 32/250\n",
            "32/32 [==============================] - 0s 1ms/step - loss: 1.7366 - accuracy: 0.2890\n",
            "Epoch 33/250\n",
            "32/32 [==============================] - 0s 2ms/step - loss: 1.5453 - accuracy: 0.3080\n",
            "Epoch 34/250\n",
            "32/32 [==============================] - 0s 1ms/step - loss: 1.5271 - accuracy: 0.3160\n",
            "Epoch 35/250\n",
            "32/32 [==============================] - 0s 1ms/step - loss: 1.5212 - accuracy: 0.3210\n",
            "Epoch 36/250\n",
            "32/32 [==============================] - 0s 1ms/step - loss: 1.5162 - accuracy: 0.3270\n",
            "Epoch 37/250\n",
            "32/32 [==============================] - 0s 1ms/step - loss: 1.5092 - accuracy: 0.3320\n",
            "Epoch 38/250\n",
            "32/32 [==============================] - 0s 1ms/step - loss: 1.5020 - accuracy: 0.3380\n",
            "Epoch 39/250\n",
            "32/32 [==============================] - 0s 1ms/step - loss: 1.4952 - accuracy: 0.3410\n",
            "Epoch 40/250\n",
            "32/32 [==============================] - 0s 1ms/step - loss: 1.4746 - accuracy: 0.3470\n",
            "Epoch 41/250\n",
            "32/32 [==============================] - 0s 1ms/step - loss: 1.4519 - accuracy: 0.3480\n",
            "Epoch 42/250\n",
            "32/32 [==============================] - 0s 1ms/step - loss: 1.4414 - accuracy: 0.3530\n",
            "Epoch 43/250\n",
            "32/32 [==============================] - 0s 1ms/step - loss: 1.4086 - accuracy: 0.3570\n",
            "Epoch 44/250\n",
            "32/32 [==============================] - 0s 1ms/step - loss: 1.3896 - accuracy: 0.3600\n",
            "Epoch 45/250\n",
            "32/32 [==============================] - 0s 1ms/step - loss: 1.3810 - accuracy: 0.3620\n",
            "Epoch 46/250\n",
            "32/32 [==============================] - 0s 1ms/step - loss: 1.3671 - accuracy: 0.3640\n",
            "Epoch 47/250\n",
            "32/32 [==============================] - 0s 1ms/step - loss: 1.3374 - accuracy: 0.3640\n",
            "Epoch 48/250\n",
            "32/32 [==============================] - 0s 1ms/step - loss: 1.2598 - accuracy: 0.3690\n",
            "Epoch 49/250\n",
            "32/32 [==============================] - 0s 1ms/step - loss: 1.1886 - accuracy: 0.3740\n",
            "Epoch 50/250\n",
            "32/32 [==============================] - 0s 1ms/step - loss: 1.0408 - accuracy: 0.3750\n",
            "Epoch 51/250\n",
            "32/32 [==============================] - 0s 1ms/step - loss: 0.9104 - accuracy: 0.3800\n",
            "Epoch 52/250\n",
            "32/32 [==============================] - 0s 1ms/step - loss: 0.8990 - accuracy: 0.3800\n",
            "Epoch 53/250\n",
            "32/32 [==============================] - 0s 1ms/step - loss: 0.8913 - accuracy: 0.3810\n",
            "Epoch 54/250\n",
            "32/32 [==============================] - 0s 1ms/step - loss: 0.8850 - accuracy: 0.3820\n",
            "Epoch 55/250\n",
            "32/32 [==============================] - 0s 1ms/step - loss: 0.8794 - accuracy: 0.3830\n",
            "Epoch 56/250\n",
            "32/32 [==============================] - 0s 1ms/step - loss: 0.8745 - accuracy: 0.3810\n",
            "Epoch 57/250\n",
            "32/32 [==============================] - 0s 1ms/step - loss: 0.8700 - accuracy: 0.3810\n",
            "Epoch 58/250\n",
            "32/32 [==============================] - 0s 1ms/step - loss: 0.8658 - accuracy: 0.3820\n",
            "Epoch 59/250\n",
            "32/32 [==============================] - 0s 1ms/step - loss: 0.8618 - accuracy: 0.3820\n",
            "Epoch 60/250\n",
            "32/32 [==============================] - 0s 1ms/step - loss: 0.8581 - accuracy: 0.3850\n",
            "Epoch 61/250\n",
            "32/32 [==============================] - 0s 1ms/step - loss: 0.8546 - accuracy: 0.3850\n",
            "Epoch 62/250\n",
            "32/32 [==============================] - 0s 1ms/step - loss: 0.8512 - accuracy: 0.3840\n",
            "Epoch 63/250\n",
            "32/32 [==============================] - 0s 1ms/step - loss: 0.8480 - accuracy: 0.3850\n",
            "Epoch 64/250\n",
            "32/32 [==============================] - 0s 1ms/step - loss: 0.8448 - accuracy: 0.3860\n",
            "Epoch 65/250\n",
            "32/32 [==============================] - 0s 1ms/step - loss: 0.8419 - accuracy: 0.3850\n",
            "Epoch 66/250\n",
            "32/32 [==============================] - 0s 1ms/step - loss: 0.8389 - accuracy: 0.3850\n",
            "Epoch 67/250\n",
            "32/32 [==============================] - 0s 1ms/step - loss: 0.8362 - accuracy: 0.3880\n",
            "Epoch 68/250\n",
            "32/32 [==============================] - 0s 1ms/step - loss: 0.8334 - accuracy: 0.3860\n",
            "Epoch 69/250\n",
            "32/32 [==============================] - 0s 1ms/step - loss: 0.8308 - accuracy: 0.3870\n",
            "Epoch 70/250\n",
            "32/32 [==============================] - 0s 1ms/step - loss: 0.8283 - accuracy: 0.3880\n",
            "Epoch 71/250\n",
            "32/32 [==============================] - 0s 1ms/step - loss: 0.8258 - accuracy: 0.3880\n",
            "Epoch 72/250\n",
            "32/32 [==============================] - 0s 1ms/step - loss: 0.8234 - accuracy: 0.3890\n",
            "Epoch 73/250\n",
            "32/32 [==============================] - 0s 1ms/step - loss: 0.8210 - accuracy: 0.3870\n",
            "Epoch 74/250\n",
            "32/32 [==============================] - 0s 1ms/step - loss: 0.8188 - accuracy: 0.3860\n",
            "Epoch 75/250\n",
            "32/32 [==============================] - 0s 1ms/step - loss: 0.8166 - accuracy: 0.3860\n",
            "Epoch 76/250\n",
            "32/32 [==============================] - 0s 1ms/step - loss: 0.8145 - accuracy: 0.3860\n",
            "Epoch 77/250\n",
            "32/32 [==============================] - 0s 1ms/step - loss: 0.8123 - accuracy: 0.3860\n",
            "Epoch 78/250\n",
            "32/32 [==============================] - 0s 1ms/step - loss: 0.8102 - accuracy: 0.3850\n",
            "Epoch 79/250\n",
            "32/32 [==============================] - 0s 1ms/step - loss: 0.8082 - accuracy: 0.3860\n",
            "Epoch 80/250\n",
            "32/32 [==============================] - 0s 1ms/step - loss: 0.8061 - accuracy: 0.3850\n",
            "Epoch 81/250\n",
            "32/32 [==============================] - 0s 1ms/step - loss: 0.8042 - accuracy: 0.3840\n",
            "Epoch 82/250\n",
            "32/32 [==============================] - 0s 1ms/step - loss: 0.8023 - accuracy: 0.3840\n",
            "Epoch 83/250\n",
            "32/32 [==============================] - 0s 1ms/step - loss: 0.8004 - accuracy: 0.3850\n",
            "Epoch 84/250\n",
            "32/32 [==============================] - 0s 1ms/step - loss: 0.7985 - accuracy: 0.3850\n",
            "Epoch 85/250\n",
            "32/32 [==============================] - 0s 1ms/step - loss: 0.7967 - accuracy: 0.3840\n",
            "Epoch 86/250\n",
            "32/32 [==============================] - 0s 2ms/step - loss: 0.7949 - accuracy: 0.3830\n",
            "Epoch 87/250\n",
            "32/32 [==============================] - 0s 1ms/step - loss: 0.7931 - accuracy: 0.3800\n",
            "Epoch 88/250\n",
            "32/32 [==============================] - 0s 1ms/step - loss: 0.7914 - accuracy: 0.3810\n",
            "Epoch 89/250\n",
            "32/32 [==============================] - 0s 1ms/step - loss: 0.7897 - accuracy: 0.3820\n",
            "Epoch 90/250\n",
            "32/32 [==============================] - 0s 1ms/step - loss: 0.7880 - accuracy: 0.3810\n",
            "Epoch 91/250\n",
            "32/32 [==============================] - 0s 1ms/step - loss: 0.7863 - accuracy: 0.3830\n",
            "Epoch 92/250\n",
            "32/32 [==============================] - 0s 1ms/step - loss: 0.7847 - accuracy: 0.3830\n",
            "Epoch 93/250\n",
            "32/32 [==============================] - 0s 2ms/step - loss: 0.7831 - accuracy: 0.3830\n",
            "Epoch 94/250\n",
            "32/32 [==============================] - 0s 1ms/step - loss: 0.7815 - accuracy: 0.3830\n",
            "Epoch 95/250\n",
            "32/32 [==============================] - 0s 1ms/step - loss: 0.7800 - accuracy: 0.3820\n",
            "Epoch 96/250\n",
            "32/32 [==============================] - 0s 1ms/step - loss: 0.7785 - accuracy: 0.3820\n",
            "Epoch 97/250\n",
            "32/32 [==============================] - 0s 1ms/step - loss: 0.7770 - accuracy: 0.3820\n",
            "Epoch 98/250\n",
            "32/32 [==============================] - 0s 1ms/step - loss: 0.7755 - accuracy: 0.3800\n",
            "Epoch 99/250\n",
            "32/32 [==============================] - 0s 1ms/step - loss: 0.7741 - accuracy: 0.3800\n",
            "Epoch 100/250\n",
            "32/32 [==============================] - 0s 1ms/step - loss: 0.7727 - accuracy: 0.3770\n",
            "Epoch 101/250\n",
            "32/32 [==============================] - 0s 1ms/step - loss: 0.7713 - accuracy: 0.3760\n",
            "Epoch 102/250\n",
            "32/32 [==============================] - 0s 2ms/step - loss: 0.7698 - accuracy: 0.3750\n",
            "Epoch 103/250\n",
            "32/32 [==============================] - 0s 1ms/step - loss: 0.7684 - accuracy: 0.3760\n",
            "Epoch 104/250\n",
            "32/32 [==============================] - 0s 1ms/step - loss: 0.7672 - accuracy: 0.3780\n",
            "Epoch 105/250\n",
            "32/32 [==============================] - 0s 1ms/step - loss: 0.7659 - accuracy: 0.3770\n",
            "Epoch 106/250\n",
            "32/32 [==============================] - 0s 1ms/step - loss: 0.7645 - accuracy: 0.3750\n",
            "Epoch 107/250\n",
            "32/32 [==============================] - 0s 1ms/step - loss: 0.7632 - accuracy: 0.3740\n",
            "Epoch 108/250\n",
            "32/32 [==============================] - 0s 1ms/step - loss: 0.7620 - accuracy: 0.3750\n",
            "Epoch 109/250\n",
            "32/32 [==============================] - 0s 1ms/step - loss: 0.7607 - accuracy: 0.3750\n",
            "Epoch 110/250\n",
            "32/32 [==============================] - 0s 1ms/step - loss: 0.7595 - accuracy: 0.3760\n",
            "Epoch 111/250\n",
            "32/32 [==============================] - 0s 1ms/step - loss: 0.7584 - accuracy: 0.3710\n",
            "Epoch 112/250\n",
            "32/32 [==============================] - 0s 1ms/step - loss: 0.7571 - accuracy: 0.3690\n",
            "Epoch 113/250\n",
            "32/32 [==============================] - 0s 1ms/step - loss: 0.7560 - accuracy: 0.3650\n",
            "Epoch 114/250\n",
            "32/32 [==============================] - 0s 1ms/step - loss: 0.7548 - accuracy: 0.3640\n",
            "Epoch 115/250\n",
            "32/32 [==============================] - 0s 1ms/step - loss: 0.7536 - accuracy: 0.3670\n",
            "Epoch 116/250\n",
            "32/32 [==============================] - 0s 1ms/step - loss: 0.7525 - accuracy: 0.3650\n",
            "Epoch 117/250\n",
            "32/32 [==============================] - 0s 2ms/step - loss: 0.7515 - accuracy: 0.3650\n",
            "Epoch 118/250\n",
            "32/32 [==============================] - 0s 1ms/step - loss: 0.7503 - accuracy: 0.3650\n",
            "Epoch 119/250\n",
            "32/32 [==============================] - 0s 1ms/step - loss: 0.7492 - accuracy: 0.3640\n",
            "Epoch 120/250\n",
            "32/32 [==============================] - 0s 1ms/step - loss: 0.7482 - accuracy: 0.3640\n",
            "Epoch 121/250\n",
            "32/32 [==============================] - 0s 1ms/step - loss: 0.7471 - accuracy: 0.3680\n",
            "Epoch 122/250\n",
            "32/32 [==============================] - 0s 1ms/step - loss: 0.7461 - accuracy: 0.3670\n",
            "Epoch 123/250\n",
            "32/32 [==============================] - 0s 1ms/step - loss: 0.7450 - accuracy: 0.3670\n",
            "Epoch 124/250\n",
            "32/32 [==============================] - 0s 1ms/step - loss: 0.7440 - accuracy: 0.3670\n",
            "Epoch 125/250\n",
            "32/32 [==============================] - 0s 1ms/step - loss: 0.7430 - accuracy: 0.3610\n",
            "Epoch 126/250\n",
            "32/32 [==============================] - 0s 1ms/step - loss: 0.7420 - accuracy: 0.3600\n",
            "Epoch 127/250\n",
            "32/32 [==============================] - 0s 1ms/step - loss: 0.7410 - accuracy: 0.3590\n",
            "Epoch 128/250\n",
            "32/32 [==============================] - 0s 1ms/step - loss: 0.7401 - accuracy: 0.3610\n",
            "Epoch 129/250\n",
            "32/32 [==============================] - 0s 1ms/step - loss: 0.7391 - accuracy: 0.3570\n",
            "Epoch 130/250\n",
            "32/32 [==============================] - 0s 1ms/step - loss: 0.7382 - accuracy: 0.3630\n",
            "Epoch 131/250\n",
            "32/32 [==============================] - 0s 1ms/step - loss: 0.7372 - accuracy: 0.3610\n",
            "Epoch 132/250\n",
            "32/32 [==============================] - 0s 1ms/step - loss: 0.7363 - accuracy: 0.3610\n",
            "Epoch 133/250\n",
            "32/32 [==============================] - 0s 1ms/step - loss: 0.7355 - accuracy: 0.3600\n",
            "Epoch 134/250\n",
            "32/32 [==============================] - 0s 1ms/step - loss: 0.7345 - accuracy: 0.3580\n",
            "Epoch 135/250\n",
            "32/32 [==============================] - 0s 1ms/step - loss: 0.7336 - accuracy: 0.3520\n",
            "Epoch 136/250\n",
            "32/32 [==============================] - 0s 2ms/step - loss: 0.7328 - accuracy: 0.3500\n",
            "Epoch 137/250\n",
            "32/32 [==============================] - 0s 1ms/step - loss: 0.7319 - accuracy: 0.3480\n",
            "Epoch 138/250\n",
            "32/32 [==============================] - 0s 1ms/step - loss: 0.7311 - accuracy: 0.3520\n",
            "Epoch 139/250\n",
            "32/32 [==============================] - 0s 1ms/step - loss: 0.7302 - accuracy: 0.3520\n",
            "Epoch 140/250\n",
            "32/32 [==============================] - 0s 1ms/step - loss: 0.7294 - accuracy: 0.3490\n",
            "Epoch 141/250\n",
            "32/32 [==============================] - 0s 1ms/step - loss: 0.7286 - accuracy: 0.3450\n",
            "Epoch 142/250\n",
            "32/32 [==============================] - 0s 1ms/step - loss: 0.7278 - accuracy: 0.3430\n",
            "Epoch 143/250\n",
            "32/32 [==============================] - 0s 1ms/step - loss: 0.7269 - accuracy: 0.3430\n",
            "Epoch 144/250\n",
            "32/32 [==============================] - 0s 1ms/step - loss: 0.7261 - accuracy: 0.3440\n",
            "Epoch 145/250\n",
            "32/32 [==============================] - 0s 1ms/step - loss: 0.7253 - accuracy: 0.3420\n",
            "Epoch 146/250\n",
            "32/32 [==============================] - 0s 2ms/step - loss: 0.7246 - accuracy: 0.3420\n",
            "Epoch 147/250\n",
            "32/32 [==============================] - 0s 1ms/step - loss: 0.7239 - accuracy: 0.3390\n",
            "Epoch 148/250\n",
            "32/32 [==============================] - 0s 1ms/step - loss: 0.7231 - accuracy: 0.3440\n",
            "Epoch 149/250\n",
            "32/32 [==============================] - 0s 1ms/step - loss: 0.7224 - accuracy: 0.3470\n",
            "Epoch 150/250\n",
            "32/32 [==============================] - 0s 1ms/step - loss: 0.7217 - accuracy: 0.3450\n",
            "Epoch 151/250\n",
            "32/32 [==============================] - 0s 1ms/step - loss: 0.7209 - accuracy: 0.3400\n",
            "Epoch 152/250\n",
            "32/32 [==============================] - 0s 1ms/step - loss: 0.7202 - accuracy: 0.3350\n",
            "Epoch 153/250\n",
            "32/32 [==============================] - 0s 1ms/step - loss: 0.7195 - accuracy: 0.3320\n",
            "Epoch 154/250\n",
            "32/32 [==============================] - 0s 1ms/step - loss: 0.7188 - accuracy: 0.3300\n",
            "Epoch 155/250\n",
            "32/32 [==============================] - 0s 1ms/step - loss: 0.7180 - accuracy: 0.3280\n",
            "Epoch 156/250\n",
            "32/32 [==============================] - 0s 1ms/step - loss: 0.7173 - accuracy: 0.3270\n",
            "Epoch 157/250\n",
            "32/32 [==============================] - 0s 1ms/step - loss: 0.7166 - accuracy: 0.3260\n",
            "Epoch 158/250\n",
            "32/32 [==============================] - 0s 1ms/step - loss: 0.7159 - accuracy: 0.3250\n",
            "Epoch 159/250\n",
            "32/32 [==============================] - 0s 1ms/step - loss: 0.7153 - accuracy: 0.3220\n",
            "Epoch 160/250\n",
            "32/32 [==============================] - 0s 1ms/step - loss: 0.7146 - accuracy: 0.3180\n",
            "Epoch 161/250\n",
            "32/32 [==============================] - 0s 1ms/step - loss: 0.7139 - accuracy: 0.3110\n",
            "Epoch 162/250\n",
            "32/32 [==============================] - 0s 2ms/step - loss: 0.7133 - accuracy: 0.3070\n",
            "Epoch 163/250\n",
            "32/32 [==============================] - 0s 1ms/step - loss: 0.7126 - accuracy: 0.2990\n",
            "Epoch 164/250\n",
            "32/32 [==============================] - 0s 1ms/step - loss: 0.7121 - accuracy: 0.2790\n",
            "Epoch 165/250\n",
            "32/32 [==============================] - 0s 1ms/step - loss: 0.7114 - accuracy: 0.2750\n",
            "Epoch 166/250\n",
            "32/32 [==============================] - 0s 2ms/step - loss: 0.7107 - accuracy: 0.2740\n",
            "Epoch 167/250\n",
            "32/32 [==============================] - 0s 1ms/step - loss: 0.7100 - accuracy: 0.2700\n",
            "Epoch 168/250\n",
            "32/32 [==============================] - 0s 1ms/step - loss: 0.7094 - accuracy: 0.2660\n",
            "Epoch 169/250\n",
            "32/32 [==============================] - 0s 1ms/step - loss: 0.7088 - accuracy: 0.2660\n",
            "Epoch 170/250\n",
            "32/32 [==============================] - 0s 1ms/step - loss: 0.7083 - accuracy: 0.2660\n",
            "Epoch 171/250\n",
            "32/32 [==============================] - 0s 1ms/step - loss: 0.7075 - accuracy: 0.2640\n",
            "Epoch 172/250\n",
            "32/32 [==============================] - 0s 1ms/step - loss: 0.7069 - accuracy: 0.2600\n",
            "Epoch 173/250\n",
            "32/32 [==============================] - 0s 1ms/step - loss: 0.7062 - accuracy: 0.2590\n",
            "Epoch 174/250\n",
            "32/32 [==============================] - 0s 1ms/step - loss: 0.7057 - accuracy: 0.2610\n",
            "Epoch 175/250\n",
            "32/32 [==============================] - 0s 2ms/step - loss: 0.7052 - accuracy: 0.2570\n",
            "Epoch 176/250\n",
            "32/32 [==============================] - 0s 1ms/step - loss: 0.7045 - accuracy: 0.2550\n",
            "Epoch 177/250\n",
            "32/32 [==============================] - 0s 1ms/step - loss: 0.7039 - accuracy: 0.2570\n",
            "Epoch 178/250\n",
            "32/32 [==============================] - 0s 1ms/step - loss: 0.7033 - accuracy: 0.2560\n",
            "Epoch 179/250\n",
            "32/32 [==============================] - 0s 1ms/step - loss: 0.7026 - accuracy: 0.2570\n",
            "Epoch 180/250\n",
            "32/32 [==============================] - 0s 1ms/step - loss: 0.7021 - accuracy: 0.2580\n",
            "Epoch 181/250\n",
            "32/32 [==============================] - 0s 2ms/step - loss: 0.7015 - accuracy: 0.2540\n",
            "Epoch 182/250\n",
            "32/32 [==============================] - 0s 1ms/step - loss: 0.7008 - accuracy: 0.2500\n",
            "Epoch 183/250\n",
            "32/32 [==============================] - 0s 1ms/step - loss: 0.7002 - accuracy: 0.2470\n",
            "Epoch 184/250\n",
            "32/32 [==============================] - 0s 2ms/step - loss: 0.6996 - accuracy: 0.2470\n",
            "Epoch 185/250\n",
            "32/32 [==============================] - 0s 2ms/step - loss: 0.6990 - accuracy: 0.2480\n",
            "Epoch 186/250\n",
            "32/32 [==============================] - 0s 1ms/step - loss: 0.6984 - accuracy: 0.2470\n",
            "Epoch 187/250\n",
            "32/32 [==============================] - 0s 1ms/step - loss: 0.6979 - accuracy: 0.2470\n",
            "Epoch 188/250\n",
            "32/32 [==============================] - 0s 1ms/step - loss: 0.6973 - accuracy: 0.2470\n",
            "Epoch 189/250\n",
            "32/32 [==============================] - 0s 1ms/step - loss: 0.6967 - accuracy: 0.2480\n",
            "Epoch 190/250\n",
            "32/32 [==============================] - 0s 1ms/step - loss: 0.6962 - accuracy: 0.2500\n",
            "Epoch 191/250\n",
            "32/32 [==============================] - 0s 1ms/step - loss: 0.6957 - accuracy: 0.2500\n",
            "Epoch 192/250\n",
            "32/32 [==============================] - 0s 1ms/step - loss: 0.6950 - accuracy: 0.2480\n",
            "Epoch 193/250\n",
            "32/32 [==============================] - 0s 1ms/step - loss: 0.6944 - accuracy: 0.2470\n",
            "Epoch 194/250\n",
            "32/32 [==============================] - 0s 1ms/step - loss: 0.6939 - accuracy: 0.2490\n",
            "Epoch 195/250\n",
            "32/32 [==============================] - 0s 1ms/step - loss: 0.6932 - accuracy: 0.2470\n",
            "Epoch 196/250\n",
            "32/32 [==============================] - 0s 1ms/step - loss: 0.6926 - accuracy: 0.2450\n",
            "Epoch 197/250\n",
            "32/32 [==============================] - 0s 1ms/step - loss: 0.6920 - accuracy: 0.2440\n",
            "Epoch 198/250\n",
            "32/32 [==============================] - 0s 1ms/step - loss: 0.6915 - accuracy: 0.2440\n",
            "Epoch 199/250\n",
            "32/32 [==============================] - 0s 2ms/step - loss: 0.6908 - accuracy: 0.2410\n",
            "Epoch 200/250\n",
            "32/32 [==============================] - 0s 1ms/step - loss: 0.6902 - accuracy: 0.2390\n",
            "Epoch 201/250\n",
            "32/32 [==============================] - 0s 1ms/step - loss: 0.6897 - accuracy: 0.2380\n",
            "Epoch 202/250\n",
            "32/32 [==============================] - 0s 1ms/step - loss: 0.6891 - accuracy: 0.2360\n",
            "Epoch 203/250\n",
            "32/32 [==============================] - 0s 1ms/step - loss: 0.6885 - accuracy: 0.2370\n",
            "Epoch 204/250\n",
            "32/32 [==============================] - 0s 2ms/step - loss: 0.6878 - accuracy: 0.2330\n",
            "Epoch 205/250\n",
            "32/32 [==============================] - 0s 1ms/step - loss: 0.6873 - accuracy: 0.2340\n",
            "Epoch 206/250\n",
            "32/32 [==============================] - 0s 1ms/step - loss: 0.6868 - accuracy: 0.2280\n",
            "Epoch 207/250\n",
            "32/32 [==============================] - 0s 1ms/step - loss: 0.6861 - accuracy: 0.2290\n",
            "Epoch 208/250\n",
            "32/32 [==============================] - 0s 2ms/step - loss: 0.6855 - accuracy: 0.2250\n",
            "Epoch 209/250\n",
            "32/32 [==============================] - 0s 1ms/step - loss: 0.6850 - accuracy: 0.2200\n",
            "Epoch 210/250\n",
            "32/32 [==============================] - 0s 1ms/step - loss: 0.6843 - accuracy: 0.2120\n",
            "Epoch 211/250\n",
            "32/32 [==============================] - 0s 1ms/step - loss: 0.6838 - accuracy: 0.1980\n",
            "Epoch 212/250\n",
            "32/32 [==============================] - 0s 1ms/step - loss: 0.6832 - accuracy: 0.1740\n",
            "Epoch 213/250\n",
            "32/32 [==============================] - 0s 1ms/step - loss: 0.6826 - accuracy: 0.1640\n",
            "Epoch 214/250\n",
            "32/32 [==============================] - 0s 1ms/step - loss: 0.6821 - accuracy: 0.1680\n",
            "Epoch 215/250\n",
            "32/32 [==============================] - 0s 1ms/step - loss: 0.6815 - accuracy: 0.1590\n",
            "Epoch 216/250\n",
            "32/32 [==============================] - 0s 2ms/step - loss: 0.6810 - accuracy: 0.1480\n",
            "Epoch 217/250\n",
            "32/32 [==============================] - 0s 1ms/step - loss: 0.6805 - accuracy: 0.1440\n",
            "Epoch 218/250\n",
            "32/32 [==============================] - 0s 1ms/step - loss: 0.6799 - accuracy: 0.1400\n",
            "Epoch 219/250\n",
            "32/32 [==============================] - 0s 1ms/step - loss: 0.6793 - accuracy: 0.1380\n",
            "Epoch 220/250\n",
            "32/32 [==============================] - 0s 1ms/step - loss: 0.6790 - accuracy: 0.1400\n",
            "Epoch 221/250\n",
            "32/32 [==============================] - 0s 1ms/step - loss: 0.6782 - accuracy: 0.1370\n",
            "Epoch 222/250\n",
            "32/32 [==============================] - 0s 1ms/step - loss: 0.6778 - accuracy: 0.1370\n",
            "Epoch 223/250\n",
            "32/32 [==============================] - 0s 1ms/step - loss: 0.6773 - accuracy: 0.1360\n",
            "Epoch 224/250\n",
            "32/32 [==============================] - 0s 2ms/step - loss: 0.6767 - accuracy: 0.1370\n",
            "Epoch 225/250\n",
            "32/32 [==============================] - 0s 1ms/step - loss: 0.6763 - accuracy: 0.1390\n",
            "Epoch 226/250\n",
            "32/32 [==============================] - 0s 1ms/step - loss: 0.6759 - accuracy: 0.1380\n",
            "Epoch 227/250\n",
            "32/32 [==============================] - 0s 1ms/step - loss: 0.6752 - accuracy: 0.1410\n",
            "Epoch 228/250\n",
            "32/32 [==============================] - 0s 1ms/step - loss: 0.6747 - accuracy: 0.1410\n",
            "Epoch 229/250\n",
            "32/32 [==============================] - 0s 1ms/step - loss: 0.6742 - accuracy: 0.1360\n",
            "Epoch 230/250\n",
            "32/32 [==============================] - 0s 1ms/step - loss: 0.6737 - accuracy: 0.1410\n",
            "Epoch 231/250\n",
            "32/32 [==============================] - 0s 1ms/step - loss: 0.6732 - accuracy: 0.1370\n",
            "Epoch 232/250\n",
            "32/32 [==============================] - 0s 1ms/step - loss: 0.6727 - accuracy: 0.1360\n",
            "Epoch 233/250\n",
            "32/32 [==============================] - 0s 2ms/step - loss: 0.6722 - accuracy: 0.1370\n",
            "Epoch 234/250\n",
            "32/32 [==============================] - 0s 1ms/step - loss: 0.6717 - accuracy: 0.1370\n",
            "Epoch 235/250\n",
            "32/32 [==============================] - 0s 1ms/step - loss: 0.6712 - accuracy: 0.1370\n",
            "Epoch 236/250\n",
            "32/32 [==============================] - 0s 2ms/step - loss: 0.6708 - accuracy: 0.1370\n",
            "Epoch 237/250\n",
            "32/32 [==============================] - 0s 1ms/step - loss: 0.6703 - accuracy: 0.1370\n",
            "Epoch 238/250\n",
            "32/32 [==============================] - 0s 1ms/step - loss: 0.6698 - accuracy: 0.1380\n",
            "Epoch 239/250\n",
            "32/32 [==============================] - 0s 1ms/step - loss: 0.6694 - accuracy: 0.1390\n",
            "Epoch 240/250\n",
            "32/32 [==============================] - 0s 1ms/step - loss: 0.6690 - accuracy: 0.1390\n",
            "Epoch 241/250\n",
            "32/32 [==============================] - 0s 1ms/step - loss: 0.6690 - accuracy: 0.1350\n",
            "Epoch 242/250\n",
            "32/32 [==============================] - 0s 1ms/step - loss: 0.6680 - accuracy: 0.1360\n",
            "Epoch 243/250\n",
            "32/32 [==============================] - 0s 2ms/step - loss: 0.6677 - accuracy: 0.1380\n",
            "Epoch 244/250\n",
            "32/32 [==============================] - 0s 1ms/step - loss: 0.6674 - accuracy: 0.1360\n",
            "Epoch 245/250\n",
            "32/32 [==============================] - 0s 1ms/step - loss: 0.6667 - accuracy: 0.1360\n",
            "Epoch 246/250\n",
            "32/32 [==============================] - 0s 1ms/step - loss: 0.6667 - accuracy: 0.1410\n",
            "Epoch 247/250\n",
            "32/32 [==============================] - 0s 1ms/step - loss: 0.6659 - accuracy: 0.1370\n",
            "Epoch 248/250\n",
            "32/32 [==============================] - 0s 1ms/step - loss: 0.6654 - accuracy: 0.1360\n",
            "Epoch 249/250\n",
            "32/32 [==============================] - 0s 1ms/step - loss: 0.6650 - accuracy: 0.1340\n",
            "Epoch 250/250\n",
            "32/32 [==============================] - 0s 1ms/step - loss: 0.6645 - accuracy: 0.1390\n"
          ],
          "name": "stdout"
        }
      ]
    },
    {
      "cell_type": "code",
      "metadata": {
        "colab": {
          "base_uri": "https://localhost:8080/",
          "height": 302
        },
        "id": "lEVcrjtYXzxS",
        "outputId": "5ed3b178-4d39-4a77-8f03-4dd0fa941381"
      },
      "source": [
        "# Visualizing predictions\n",
        "plot_decision_boundary(model_7, X, y)"
      ],
      "execution_count": 40,
      "outputs": [
        {
          "output_type": "stream",
          "text": [
            "Doing multiclass classification\n",
            "\n"
          ],
          "name": "stdout"
        },
        {
          "output_type": "display_data",
          "data": {
            "image/png": "[encoded data removed]",
            "text/plain": [
              "<Figure size 432x288 with 1 Axes>"
            ]
          },
          "metadata": {
            "tags": [],
            "needs_background": "light"
          }
        }
      ]
    },
    {
      "cell_type": "code",
      "metadata": {
        "colab": {
          "base_uri": "https://localhost:8080/"
        },
        "id": "df8MO1wdYrNc",
        "outputId": "d6558990-bca4-476e-9b0d-5c7115789a72"
      },
      "source": [
        "X"
      ],
      "execution_count": 41,
      "outputs": [
        {
          "output_type": "execute_result",
          "data": {
            "text/plain": [
              "array([[-0.97062946,  0.03782132],\n",
              "       [-0.81032756, -0.04961955],\n",
              "       [ 0.55650471,  0.79362129],\n",
              "       ...,\n",
              "       [ 0.06833668,  1.03462829],\n",
              "       [-0.95074224, -0.27235243],\n",
              "       [-0.83796162, -0.5500797 ]])"
            ]
          },
          "metadata": {
            "tags": []
          },
          "execution_count": 41
        }
      ]
    },
    {
      "cell_type": "code",
      "metadata": {
        "colab": {
          "base_uri": "https://localhost:8080/"
        },
        "id": "fTXgL96GZf8l",
        "outputId": "0227929f-4415-4a8a-8c18-9b1ff39b4f18"
      },
      "source": [
        "y"
      ],
      "execution_count": 42,
      "outputs": [
        {
          "output_type": "execute_result",
          "data": {
            "text/plain": [
              "array([0, 1, 0, 0, 1, 1, 1, 0, 1, 1, 1, 1, 1, 0, 1, 1, 1, 1, 1, 1, 0, 1,\n",
              "       1, 0, 0, 1, 1, 0, 0, 0, 0, 1, 1, 0, 0, 1, 0, 0, 0, 0, 1, 0, 1, 0,\n",
              "       0, 1, 0, 1, 0, 1, 0, 0, 1, 1, 1, 0, 0, 0, 1, 1, 1, 1, 1, 1, 0, 1,\n",
              "       1, 0, 0, 0, 1, 0, 1, 1, 0, 1, 0, 1, 1, 0, 0, 0, 0, 1, 0, 0, 0, 0,\n",
              "       1, 1, 0, 0, 1, 0, 0, 1, 0, 0, 0, 0, 0, 0, 0, 0, 0, 1, 0, 1, 1, 1,\n",
              "       1, 0, 1, 0, 0, 0, 0, 0, 0, 0, 1, 0, 0, 0, 1, 0, 0, 1, 0, 0, 1, 1,\n",
              "       1, 1, 1, 1, 1, 0, 0, 0, 1, 1, 0, 0, 1, 0, 0, 0, 0, 1, 0, 1, 1, 0,\n",
              "       1, 0, 1, 1, 1, 1, 1, 0, 1, 1, 0, 1, 1, 0, 1, 1, 1, 0, 1, 1, 1, 1,\n",
              "       0, 0, 0, 1, 1, 0, 1, 1, 1, 1, 1, 1, 0, 1, 1, 0, 1, 0, 1, 0, 0, 0,\n",
              "       1, 1, 1, 1, 1, 0, 1, 0, 0, 0, 0, 0, 1, 1, 1, 1, 0, 1, 1, 0, 0, 0,\n",
              "       0, 0, 1, 1, 1, 0, 1, 1, 0, 0, 0, 0, 0, 1, 0, 0, 1, 1, 1, 0, 1, 1,\n",
              "       1, 0, 0, 0, 1, 1, 0, 0, 1, 1, 1, 1, 0, 0, 1, 0, 0, 1, 0, 0, 1, 1,\n",
              "       0, 0, 1, 1, 0, 1, 1, 0, 1, 0, 1, 1, 0, 0, 1, 0, 0, 0, 0, 0, 0, 1,\n",
              "       0, 1, 1, 0, 0, 1, 0, 1, 1, 0, 0, 1, 0, 1, 0, 0, 0, 0, 1, 0, 0, 1,\n",
              "       1, 0, 1, 0, 0, 0, 0, 1, 1, 1, 1, 0, 1, 1, 1, 1, 1, 0, 0, 1, 1, 0,\n",
              "       0, 1, 0, 0, 1, 1, 0, 0, 0, 1, 0, 1, 1, 0, 1, 0, 0, 0, 1, 0, 0, 0,\n",
              "       0, 0, 1, 0, 1, 1, 0, 0, 1, 1, 0, 0, 1, 1, 0, 1, 1, 0, 0, 1, 0, 0,\n",
              "       1, 1, 0, 0, 1, 0, 1, 0, 1, 0, 0, 0, 1, 1, 0, 1, 0, 1, 0, 0, 1, 0,\n",
              "       0, 1, 1, 1, 0, 0, 0, 0, 0, 0, 1, 1, 1, 1, 1, 0, 1, 1, 1, 1, 0, 1,\n",
              "       0, 1, 1, 1, 1, 0, 0, 0, 1, 0, 0, 0, 1, 0, 1, 1, 1, 1, 0, 0, 0, 1,\n",
              "       0, 0, 0, 0, 0, 0, 1, 1, 0, 1, 0, 0, 0, 1, 1, 1, 1, 0, 1, 0, 1, 0,\n",
              "       1, 1, 1, 1, 0, 0, 1, 0, 1, 0, 0, 1, 1, 1, 1, 1, 0, 0, 0, 1, 0, 1,\n",
              "       0, 1, 1, 0, 0, 1, 1, 0, 1, 1, 0, 0, 1, 0, 1, 0, 1, 0, 1, 1, 0, 1,\n",
              "       1, 1, 0, 1, 0, 1, 1, 0, 1, 0, 0, 0, 0, 0, 1, 1, 1, 1, 1, 0, 1, 0,\n",
              "       0, 1, 1, 0, 1, 0, 0, 0, 0, 1, 0, 1, 1, 0, 1, 1, 0, 0, 0, 1, 1, 0,\n",
              "       1, 1, 0, 1, 0, 0, 1, 0, 0, 1, 0, 0, 0, 0, 0, 0, 1, 1, 0, 1, 0, 0,\n",
              "       1, 1, 0, 1, 1, 0, 0, 0, 0, 0, 1, 1, 1, 0, 1, 0, 1, 1, 1, 0, 1, 0,\n",
              "       1, 1, 1, 1, 1, 0, 1, 0, 0, 1, 1, 1, 1, 0, 0, 0, 0, 1, 0, 0, 0, 1,\n",
              "       1, 0, 0, 0, 1, 0, 1, 0, 0, 1, 0, 0, 1, 1, 0, 1, 1, 0, 1, 0, 0, 1,\n",
              "       0, 0, 1, 1, 1, 0, 0, 0, 1, 1, 1, 0, 1, 0, 0, 0, 0, 1, 0, 0, 0, 0,\n",
              "       1, 0, 1, 0, 1, 0, 1, 1, 1, 0, 0, 0, 1, 0, 0, 0, 0, 0, 0, 1, 0, 0,\n",
              "       1, 0, 1, 1, 0, 0, 1, 1, 1, 0, 0, 0, 1, 0, 0, 0, 0, 0, 1, 0, 0, 1,\n",
              "       1, 1, 0, 0, 0, 0, 1, 0, 0, 1, 0, 0, 1, 1, 0, 0, 1, 1, 1, 0, 0, 1,\n",
              "       1, 0, 1, 0, 1, 0, 1, 0, 1, 0, 0, 1, 1, 0, 1, 1, 0, 1, 1, 1, 1, 1,\n",
              "       0, 1, 1, 1, 0, 0, 0, 1, 1, 0, 1, 1, 0, 1, 1, 1, 0, 0, 0, 1, 1, 1,\n",
              "       0, 0, 1, 0, 0, 0, 1, 1, 1, 0, 0, 0, 0, 0, 0, 0, 0, 0, 0, 0, 0, 1,\n",
              "       1, 0, 1, 1, 1, 0, 1, 1, 1, 0, 1, 0, 1, 0, 0, 0, 0, 1, 0, 1, 1, 0,\n",
              "       0, 0, 1, 1, 1, 1, 1, 1, 1, 0, 1, 0, 0, 0, 0, 0, 1, 0, 1, 1, 1, 1,\n",
              "       0, 0, 0, 1, 1, 0, 0, 1, 1, 0, 1, 0, 0, 0, 0, 1, 0, 1, 1, 0, 1, 1,\n",
              "       1, 1, 0, 1, 1, 0, 0, 1, 0, 1, 1, 0, 1, 1, 1, 0, 0, 1, 1, 1, 0, 1,\n",
              "       1, 0, 1, 1, 0, 0, 1, 1, 0, 1, 1, 1, 0, 0, 1, 0, 0, 0, 1, 0, 0, 1,\n",
              "       1, 1, 0, 0, 0, 1, 0, 1, 1, 0, 0, 0, 1, 1, 1, 0, 1, 0, 1, 0, 1, 0,\n",
              "       0, 1, 0, 1, 1, 1, 0, 0, 1, 0, 1, 1, 0, 1, 1, 1, 1, 1, 0, 1, 0, 1,\n",
              "       1, 0, 1, 0, 0, 0, 1, 1, 1, 0, 1, 1, 0, 1, 0, 1, 1, 1, 1, 1, 1, 1,\n",
              "       1, 0, 1, 1, 0, 1, 0, 0, 0, 1, 1, 1, 0, 1, 0, 1, 0, 1, 1, 1, 1, 1,\n",
              "       0, 1, 0, 0, 1, 1, 1, 0, 0, 0])"
            ]
          },
          "metadata": {
            "tags": []
          },
          "execution_count": 42
        }
      ]
    },
    {
      "cell_type": "code",
      "metadata": {
        "colab": {
          "base_uri": "https://localhost:8080/"
        },
        "id": "P2zVU_JMZgkm",
        "outputId": "238e06e2-2eec-4164-b079-3067a0969359"
      },
      "source": [
        "# Set random seed\n",
        "tf.random.set_seed(18)\n",
        "\n",
        "# Create model\n",
        "model_8 = tf.keras.Sequential([\n",
        "                               tf.keras.layers.Dense(4, activation='relu'),\n",
        "                               tf.keras.layers.Dense(4, activation='relu'),\n",
        "                               tf.keras.layers.Dense(1, activation='sigmoid')\n",
        "])\n",
        "\n",
        "# Compile model\n",
        "model_8.compile(loss='binary_crossentropy',\n",
        "                optimizer=tf.keras.optimizers.Adam(learning_rate=0.001),\n",
        "                metrics=['accuracy'])\n",
        "\n",
        "# Fit model\n",
        "history = model_8.fit(X, y, epochs=100)"
      ],
      "execution_count": 46,
      "outputs": [
        {
          "output_type": "stream",
          "text": [
            "Epoch 1/100\n",
            "32/32 [==============================] - 0s 1ms/step - loss: 0.6957 - accuracy: 0.5000\n",
            "Epoch 2/100\n",
            "32/32 [==============================] - 0s 1ms/step - loss: 0.6937 - accuracy: 0.5000\n",
            "Epoch 3/100\n",
            "32/32 [==============================] - 0s 1ms/step - loss: 0.6921 - accuracy: 0.5020\n",
            "Epoch 4/100\n",
            "32/32 [==============================] - 0s 1ms/step - loss: 0.6908 - accuracy: 0.5090\n",
            "Epoch 5/100\n",
            "32/32 [==============================] - 0s 1ms/step - loss: 0.6897 - accuracy: 0.5060\n",
            "Epoch 6/100\n",
            "32/32 [==============================] - 0s 1ms/step - loss: 0.6885 - accuracy: 0.5090\n",
            "Epoch 7/100\n",
            "32/32 [==============================] - 0s 1ms/step - loss: 0.6873 - accuracy: 0.5070\n",
            "Epoch 8/100\n",
            "32/32 [==============================] - 0s 1ms/step - loss: 0.6863 - accuracy: 0.5070\n",
            "Epoch 9/100\n",
            "32/32 [==============================] - 0s 2ms/step - loss: 0.6853 - accuracy: 0.5130\n",
            "Epoch 10/100\n",
            "32/32 [==============================] - 0s 1ms/step - loss: 0.6842 - accuracy: 0.5160\n",
            "Epoch 11/100\n",
            "32/32 [==============================] - 0s 2ms/step - loss: 0.6832 - accuracy: 0.5970\n",
            "Epoch 12/100\n",
            "32/32 [==============================] - 0s 1ms/step - loss: 0.6820 - accuracy: 0.5660\n",
            "Epoch 13/100\n",
            "32/32 [==============================] - 0s 1ms/step - loss: 0.6807 - accuracy: 0.5590\n",
            "Epoch 14/100\n",
            "32/32 [==============================] - 0s 1ms/step - loss: 0.6795 - accuracy: 0.5540\n",
            "Epoch 15/100\n",
            "32/32 [==============================] - 0s 1ms/step - loss: 0.6782 - accuracy: 0.5730\n",
            "Epoch 16/100\n",
            "32/32 [==============================] - 0s 1ms/step - loss: 0.6767 - accuracy: 0.5460\n",
            "Epoch 17/100\n",
            "32/32 [==============================] - 0s 1ms/step - loss: 0.6752 - accuracy: 0.5320\n",
            "Epoch 18/100\n",
            "32/32 [==============================] - 0s 1ms/step - loss: 0.6721 - accuracy: 0.5070\n",
            "Epoch 19/100\n",
            "32/32 [==============================] - 0s 1ms/step - loss: 0.6692 - accuracy: 0.5060\n",
            "Epoch 20/100\n",
            "32/32 [==============================] - 0s 1ms/step - loss: 0.6670 - accuracy: 0.5230\n",
            "Epoch 21/100\n",
            "32/32 [==============================] - 0s 1ms/step - loss: 0.6651 - accuracy: 0.5270\n",
            "Epoch 22/100\n",
            "32/32 [==============================] - 0s 1ms/step - loss: 0.6626 - accuracy: 0.5810\n",
            "Epoch 23/100\n",
            "32/32 [==============================] - 0s 1ms/step - loss: 0.6603 - accuracy: 0.6680\n",
            "Epoch 24/100\n",
            "32/32 [==============================] - 0s 1ms/step - loss: 0.6580 - accuracy: 0.6900\n",
            "Epoch 25/100\n",
            "32/32 [==============================] - 0s 2ms/step - loss: 0.6553 - accuracy: 0.7050\n",
            "Epoch 26/100\n",
            "32/32 [==============================] - 0s 1ms/step - loss: 0.6528 - accuracy: 0.7220\n",
            "Epoch 27/100\n",
            "32/32 [==============================] - 0s 1ms/step - loss: 0.6502 - accuracy: 0.7330\n",
            "Epoch 28/100\n",
            "32/32 [==============================] - 0s 1ms/step - loss: 0.6475 - accuracy: 0.7310\n",
            "Epoch 29/100\n",
            "32/32 [==============================] - 0s 2ms/step - loss: 0.6444 - accuracy: 0.7550\n",
            "Epoch 30/100\n",
            "32/32 [==============================] - 0s 1ms/step - loss: 0.6417 - accuracy: 0.7480\n",
            "Epoch 31/100\n",
            "32/32 [==============================] - 0s 1ms/step - loss: 0.6387 - accuracy: 0.7390\n",
            "Epoch 32/100\n",
            "32/32 [==============================] - 0s 1ms/step - loss: 0.6353 - accuracy: 0.7730\n",
            "Epoch 33/100\n",
            "32/32 [==============================] - 0s 1ms/step - loss: 0.6321 - accuracy: 0.7760\n",
            "Epoch 34/100\n",
            "32/32 [==============================] - 0s 1ms/step - loss: 0.6289 - accuracy: 0.7600\n",
            "Epoch 35/100\n",
            "32/32 [==============================] - 0s 1ms/step - loss: 0.6258 - accuracy: 0.7850\n",
            "Epoch 36/100\n",
            "32/32 [==============================] - 0s 1ms/step - loss: 0.6219 - accuracy: 0.7860\n",
            "Epoch 37/100\n",
            "32/32 [==============================] - 0s 1ms/step - loss: 0.6183 - accuracy: 0.7830\n",
            "Epoch 38/100\n",
            "32/32 [==============================] - 0s 1ms/step - loss: 0.6146 - accuracy: 0.7820\n",
            "Epoch 39/100\n",
            "32/32 [==============================] - 0s 1ms/step - loss: 0.6109 - accuracy: 0.7860\n",
            "Epoch 40/100\n",
            "32/32 [==============================] - 0s 1ms/step - loss: 0.6075 - accuracy: 0.7750\n",
            "Epoch 41/100\n",
            "32/32 [==============================] - 0s 1ms/step - loss: 0.6038 - accuracy: 0.8080\n",
            "Epoch 42/100\n",
            "32/32 [==============================] - 0s 1ms/step - loss: 0.5996 - accuracy: 0.8000\n",
            "Epoch 43/100\n",
            "32/32 [==============================] - 0s 1ms/step - loss: 0.5955 - accuracy: 0.7910\n",
            "Epoch 44/100\n",
            "32/32 [==============================] - 0s 1ms/step - loss: 0.5913 - accuracy: 0.7980\n",
            "Epoch 45/100\n",
            "32/32 [==============================] - 0s 1ms/step - loss: 0.5875 - accuracy: 0.7970\n",
            "Epoch 46/100\n",
            "32/32 [==============================] - 0s 1ms/step - loss: 0.5843 - accuracy: 0.7990\n",
            "Epoch 47/100\n",
            "32/32 [==============================] - 0s 2ms/step - loss: 0.5797 - accuracy: 0.8110\n",
            "Epoch 48/100\n",
            "32/32 [==============================] - 0s 1ms/step - loss: 0.5751 - accuracy: 0.8120\n",
            "Epoch 49/100\n",
            "32/32 [==============================] - 0s 1ms/step - loss: 0.5709 - accuracy: 0.8040\n",
            "Epoch 50/100\n",
            "32/32 [==============================] - 0s 1ms/step - loss: 0.5672 - accuracy: 0.8240\n",
            "Epoch 51/100\n",
            "32/32 [==============================] - 0s 2ms/step - loss: 0.5622 - accuracy: 0.8090\n",
            "Epoch 52/100\n",
            "32/32 [==============================] - 0s 1ms/step - loss: 0.5582 - accuracy: 0.8170\n",
            "Epoch 53/100\n",
            "32/32 [==============================] - 0s 1ms/step - loss: 0.5533 - accuracy: 0.8160\n",
            "Epoch 54/100\n",
            "32/32 [==============================] - 0s 1ms/step - loss: 0.5493 - accuracy: 0.8280\n",
            "Epoch 55/100\n",
            "32/32 [==============================] - 0s 1ms/step - loss: 0.5443 - accuracy: 0.8290\n",
            "Epoch 56/100\n",
            "32/32 [==============================] - 0s 1ms/step - loss: 0.5401 - accuracy: 0.8250\n",
            "Epoch 57/100\n",
            "32/32 [==============================] - 0s 1ms/step - loss: 0.5355 - accuracy: 0.8300\n",
            "Epoch 58/100\n",
            "32/32 [==============================] - 0s 1ms/step - loss: 0.5305 - accuracy: 0.8250\n",
            "Epoch 59/100\n",
            "32/32 [==============================] - 0s 1ms/step - loss: 0.5261 - accuracy: 0.8300\n",
            "Epoch 60/100\n",
            "32/32 [==============================] - 0s 1ms/step - loss: 0.5211 - accuracy: 0.8310\n",
            "Epoch 61/100\n",
            "32/32 [==============================] - 0s 1ms/step - loss: 0.5164 - accuracy: 0.8270\n",
            "Epoch 62/100\n",
            "32/32 [==============================] - 0s 1ms/step - loss: 0.5116 - accuracy: 0.8510\n",
            "Epoch 63/100\n",
            "32/32 [==============================] - 0s 1ms/step - loss: 0.5067 - accuracy: 0.8550\n",
            "Epoch 64/100\n",
            "32/32 [==============================] - 0s 1ms/step - loss: 0.5015 - accuracy: 0.8440\n",
            "Epoch 65/100\n",
            "32/32 [==============================] - 0s 1ms/step - loss: 0.4930 - accuracy: 0.8680\n",
            "Epoch 66/100\n",
            "32/32 [==============================] - 0s 1ms/step - loss: 0.4823 - accuracy: 0.8700\n",
            "Epoch 67/100\n",
            "32/32 [==============================] - 0s 1ms/step - loss: 0.4749 - accuracy: 0.8690\n",
            "Epoch 68/100\n",
            "32/32 [==============================] - 0s 1ms/step - loss: 0.4678 - accuracy: 0.8890\n",
            "Epoch 69/100\n",
            "32/32 [==============================] - 0s 1ms/step - loss: 0.4614 - accuracy: 0.8920\n",
            "Epoch 70/100\n",
            "32/32 [==============================] - 0s 1ms/step - loss: 0.4557 - accuracy: 0.8860\n",
            "Epoch 71/100\n",
            "32/32 [==============================] - 0s 1ms/step - loss: 0.4499 - accuracy: 0.9000\n",
            "Epoch 72/100\n",
            "32/32 [==============================] - 0s 1ms/step - loss: 0.4443 - accuracy: 0.8990\n",
            "Epoch 73/100\n",
            "32/32 [==============================] - 0s 1ms/step - loss: 0.4388 - accuracy: 0.9050\n",
            "Epoch 74/100\n",
            "32/32 [==============================] - 0s 1ms/step - loss: 0.4335 - accuracy: 0.9100\n",
            "Epoch 75/100\n",
            "32/32 [==============================] - 0s 1ms/step - loss: 0.4283 - accuracy: 0.8990\n",
            "Epoch 76/100\n",
            "32/32 [==============================] - 0s 1ms/step - loss: 0.4232 - accuracy: 0.9240\n",
            "Epoch 77/100\n",
            "32/32 [==============================] - 0s 1ms/step - loss: 0.4172 - accuracy: 0.9210\n",
            "Epoch 78/100\n",
            "32/32 [==============================] - 0s 1ms/step - loss: 0.4114 - accuracy: 0.9270\n",
            "Epoch 79/100\n",
            "32/32 [==============================] - 0s 1ms/step - loss: 0.4064 - accuracy: 0.9280\n",
            "Epoch 80/100\n",
            "32/32 [==============================] - 0s 1ms/step - loss: 0.4007 - accuracy: 0.9260\n",
            "Epoch 81/100\n",
            "32/32 [==============================] - 0s 1ms/step - loss: 0.3955 - accuracy: 0.9370\n",
            "Epoch 82/100\n",
            "32/32 [==============================] - 0s 1ms/step - loss: 0.3899 - accuracy: 0.9400\n",
            "Epoch 83/100\n",
            "32/32 [==============================] - 0s 1ms/step - loss: 0.3856 - accuracy: 0.9400\n",
            "Epoch 84/100\n",
            "32/32 [==============================] - 0s 1ms/step - loss: 0.3794 - accuracy: 0.9460\n",
            "Epoch 85/100\n",
            "32/32 [==============================] - 0s 1ms/step - loss: 0.3743 - accuracy: 0.9480\n",
            "Epoch 86/100\n",
            "32/32 [==============================] - 0s 1ms/step - loss: 0.3694 - accuracy: 0.9470\n",
            "Epoch 87/100\n",
            "32/32 [==============================] - 0s 1ms/step - loss: 0.3649 - accuracy: 0.9480\n",
            "Epoch 88/100\n",
            "32/32 [==============================] - 0s 1ms/step - loss: 0.3592 - accuracy: 0.9520\n",
            "Epoch 89/100\n",
            "32/32 [==============================] - 0s 1ms/step - loss: 0.3560 - accuracy: 0.9570\n",
            "Epoch 90/100\n",
            "32/32 [==============================] - 0s 1ms/step - loss: 0.3500 - accuracy: 0.9550\n",
            "Epoch 91/100\n",
            "32/32 [==============================] - 0s 1ms/step - loss: 0.3456 - accuracy: 0.9540\n",
            "Epoch 92/100\n",
            "32/32 [==============================] - 0s 1ms/step - loss: 0.3406 - accuracy: 0.9570\n",
            "Epoch 93/100\n",
            "32/32 [==============================] - 0s 1ms/step - loss: 0.3360 - accuracy: 0.9620\n",
            "Epoch 94/100\n",
            "32/32 [==============================] - 0s 1ms/step - loss: 0.3314 - accuracy: 0.9670\n",
            "Epoch 95/100\n",
            "32/32 [==============================] - 0s 1ms/step - loss: 0.3270 - accuracy: 0.9630\n",
            "Epoch 96/100\n",
            "32/32 [==============================] - 0s 1ms/step - loss: 0.3227 - accuracy: 0.9670\n",
            "Epoch 97/100\n",
            "32/32 [==============================] - 0s 1ms/step - loss: 0.3187 - accuracy: 0.9660\n",
            "Epoch 98/100\n",
            "32/32 [==============================] - 0s 1ms/step - loss: 0.3139 - accuracy: 0.9650\n",
            "Epoch 99/100\n",
            "32/32 [==============================] - 0s 1ms/step - loss: 0.3099 - accuracy: 0.9690\n",
            "Epoch 100/100\n",
            "32/32 [==============================] - 0s 2ms/step - loss: 0.3056 - accuracy: 0.9700\n"
          ],
          "name": "stdout"
        }
      ]
    },
    {
      "cell_type": "code",
      "metadata": {
        "colab": {
          "base_uri": "https://localhost:8080/"
        },
        "id": "7U2lEtiBaYXN",
        "outputId": "e4c7fdb3-2a21-4ccb-e9ff-76b83b47a11a"
      },
      "source": [
        "# Evaluate model\n",
        "model_8.evaluate(X, y)"
      ],
      "execution_count": 48,
      "outputs": [
        {
          "output_type": "stream",
          "text": [
            "32/32 [==============================] - 0s 1ms/step - loss: 0.3022 - accuracy: 0.9720\n"
          ],
          "name": "stdout"
        },
        {
          "output_type": "execute_result",
          "data": {
            "text/plain": [
              "[0.3022237718105316, 0.972000002861023]"
            ]
          },
          "metadata": {
            "tags": []
          },
          "execution_count": 48
        }
      ]
    },
    {
      "cell_type": "code",
      "metadata": {
        "colab": {
          "base_uri": "https://localhost:8080/",
          "height": 302
        },
        "id": "RAA4rGy8a0PW",
        "outputId": "061da65b-4479-4dcb-9d89-2319ac5fdcdb"
      },
      "source": [
        "# Evaluate model\n",
        "plot_decision_boundary(model_8, X, y)"
      ],
      "execution_count": 49,
      "outputs": [
        {
          "output_type": "stream",
          "text": [
            "Doing binary classification\n",
            "\n"
          ],
          "name": "stdout"
        },
        {
          "output_type": "display_data",
          "data": {
            "image/png": "[encoded data removed]",
            "text/plain": [
              "<Figure size 432x288 with 1 Axes>"
            ]
          },
          "metadata": {
            "tags": [],
            "needs_background": "light"
          }
        }
      ]
    },
    {
      "cell_type": "markdown",
      "metadata": {
        "id": "8HtmMF_ybExt"
      },
      "source": [
        "The combination of **linear** and **non-linear** functions is one of the key fundamentals of neural networks."
      ]
    },
    {
      "cell_type": "code",
      "metadata": {
        "colab": {
          "base_uri": "https://localhost:8080/"
        },
        "id": "GGHCcoZ8de09",
        "outputId": "3f9e6071-b306-43de-ff96-c5df0e89120a"
      },
      "source": [
        "# Create demo tensor\n",
        "A = tf.cast(tf.range(-10, 10), tf.float32)\n",
        "A"
      ],
      "execution_count": 51,
      "outputs": [
        {
          "output_type": "execute_result",
          "data": {
            "text/plain": [
              "<tf.Tensor: shape=(20,), dtype=float32, numpy=\n",
              "array([-10.,  -9.,  -8.,  -7.,  -6.,  -5.,  -4.,  -3.,  -2.,  -1.,   0.,\n",
              "         1.,   2.,   3.,   4.,   5.,   6.,   7.,   8.,   9.],\n",
              "      dtype=float32)>"
            ]
          },
          "metadata": {
            "tags": []
          },
          "execution_count": 51
        }
      ]
    },
    {
      "cell_type": "code",
      "metadata": {
        "colab": {
          "base_uri": "https://localhost:8080/",
          "height": 283
        },
        "id": "qNxCWsiyd8_m",
        "outputId": "a0988c83-0f1d-4990-b888-710912b414d2"
      },
      "source": [
        "# Visualize demo tensor\n",
        "plt.plot(A)"
      ],
      "execution_count": 52,
      "outputs": [
        {
          "output_type": "execute_result",
          "data": {
            "text/plain": [
              "[<matplotlib.lines.Line2D at 0x7f46dfbfbed0>]"
            ]
          },
          "metadata": {
            "tags": []
          },
          "execution_count": 52
        },
        {
          "output_type": "display_data",
          "data": {
            "image/png": "[encoded data removed]",
            "text/plain": [
              "<Figure size 432x288 with 1 Axes>"
            ]
          },
          "metadata": {
            "tags": [],
            "needs_background": "light"
          }
        }
      ]
    },
    {
      "cell_type": "code",
      "metadata": {
        "colab": {
          "base_uri": "https://localhost:8080/"
        },
        "id": "C1VWtJv6eDRG",
        "outputId": "a46c3e7e-c0f1-4c5c-f3d5-625761715570"
      },
      "source": [
        "# We will replicate the sigmoid function - sigmoid(x) = 1 / (1+exp(-x))\n",
        "def sigmoid(x):\n",
        "  return 1 / (1+tf.exp(-x))\n",
        "\n",
        "# Use sigmoid function on our tensor\n",
        "sigmoid(A)"
      ],
      "execution_count": 53,
      "outputs": [
        {
          "output_type": "execute_result",
          "data": {
            "text/plain": [
              "<tf.Tensor: shape=(20,), dtype=float32, numpy=\n",
              "array([4.5397872e-05, 1.2339458e-04, 3.3535014e-04, 9.1105117e-04,\n",
              "       2.4726233e-03, 6.6928510e-03, 1.7986210e-02, 4.7425874e-02,\n",
              "       1.1920292e-01, 2.6894143e-01, 5.0000000e-01, 7.3105860e-01,\n",
              "       8.8079703e-01, 9.5257413e-01, 9.8201376e-01, 9.9330717e-01,\n",
              "       9.9752742e-01, 9.9908900e-01, 9.9966466e-01, 9.9987662e-01],\n",
              "      dtype=float32)>"
            ]
          },
          "metadata": {
            "tags": []
          },
          "execution_count": 53
        }
      ]
    },
    {
      "cell_type": "code",
      "metadata": {
        "colab": {
          "base_uri": "https://localhost:8080/",
          "height": 265
        },
        "id": "Vq_B4DCveleV",
        "outputId": "67405620-5a15-4465-e310-72aa5cdce1f5"
      },
      "source": [
        "# Plot our tensor transformed by sigmoid\n",
        "plt.plot(sigmoid(A));"
      ],
      "execution_count": 54,
      "outputs": [
        {
          "output_type": "display_data",
          "data": {
            "image/png": "[encoded data removed]",
            "text/plain": [
              "<Figure size 432x288 with 1 Axes>"
            ]
          },
          "metadata": {
            "tags": [],
            "needs_background": "light"
          }
        }
      ]
    },
    {
      "cell_type": "code",
      "metadata": {
        "colab": {
          "base_uri": "https://localhost:8080/"
        },
        "id": "XmlT2FeBevj-",
        "outputId": "c295612e-08ca-44fd-9ef4-4c3c30255ad4"
      },
      "source": [
        "# We will replicate relu function\n",
        "def relu(x):\n",
        "  return tf.maximum(0, x)\n",
        "\n",
        "# Use relu on our tensor\n",
        "relu(A)"
      ],
      "execution_count": 55,
      "outputs": [
        {
          "output_type": "execute_result",
          "data": {
            "text/plain": [
              "<tf.Tensor: shape=(20,), dtype=float32, numpy=\n",
              "array([0., 0., 0., 0., 0., 0., 0., 0., 0., 0., 0., 1., 2., 3., 4., 5., 6.,\n",
              "       7., 8., 9.], dtype=float32)>"
            ]
          },
          "metadata": {
            "tags": []
          },
          "execution_count": 55
        }
      ]
    },
    {
      "cell_type": "code",
      "metadata": {
        "colab": {
          "base_uri": "https://localhost:8080/",
          "height": 283
        },
        "id": "Rn3K44Kmf5-e",
        "outputId": "bde69871-9992-4354-d5a7-8b7fad741191"
      },
      "source": [
        "plt.plot(relu(A))"
      ],
      "execution_count": 56,
      "outputs": [
        {
          "output_type": "execute_result",
          "data": {
            "text/plain": [
              "[<matplotlib.lines.Line2D at 0x7f46dfb8c750>]"
            ]
          },
          "metadata": {
            "tags": []
          },
          "execution_count": 56
        },
        {
          "output_type": "display_data",
          "data": {
            "image/png": "[encoded data removed]",
            "text/plain": [
              "<Figure size 432x288 with 1 Axes>"
            ]
          },
          "metadata": {
            "tags": [],
            "needs_background": "light"
          }
        }
      ]
    },
    {
      "cell_type": "code",
      "metadata": {
        "colab": {
          "base_uri": "https://localhost:8080/",
          "height": 283
        },
        "id": "Fduvh9dyf9Cd",
        "outputId": "730a54dc-2bf3-4b6a-ee3e-6c72c8749f3d"
      },
      "source": [
        "plt.plot(tf.keras.activations.linear(A))"
      ],
      "execution_count": 57,
      "outputs": [
        {
          "output_type": "execute_result",
          "data": {
            "text/plain": [
              "[<matplotlib.lines.Line2D at 0x7f46d9a97250>]"
            ]
          },
          "metadata": {
            "tags": []
          },
          "execution_count": 57
        },
        {
          "output_type": "display_data",
          "data": {
            "image/png": "[encoded data removed]",
            "text/plain": [
              "<Figure size 432x288 with 1 Axes>"
            ]
          },
          "metadata": {
            "tags": [],
            "needs_background": "light"
          }
        }
      ]
    },
    {
      "cell_type": "markdown",
      "metadata": {
        "id": "tmqD7DK8gtsO"
      },
      "source": [
        "## Evaluating and Improving our classification"
      ]
    },
    {
      "cell_type": "code",
      "metadata": {
        "colab": {
          "base_uri": "https://localhost:8080/"
        },
        "id": "WwY7h1AejoKe",
        "outputId": "6a8f13c2-17fb-458e-97ca-b5c0421050cb"
      },
      "source": [
        "# Check number of samples\n",
        "len(X)"
      ],
      "execution_count": 58,
      "outputs": [
        {
          "output_type": "execute_result",
          "data": {
            "text/plain": [
              "1000"
            ]
          },
          "metadata": {
            "tags": []
          },
          "execution_count": 58
        }
      ]
    },
    {
      "cell_type": "code",
      "metadata": {
        "colab": {
          "base_uri": "https://localhost:8080/"
        },
        "id": "S3kvTDwljx8m",
        "outputId": "9525a96b-24f6-49e1-e942-949ab09c3976"
      },
      "source": [
        "# Split into train and test sets\n",
        "X_train, y_train = X[:800], y[:800]\n",
        "X_test, y_test = X[800:], y[800:]\n",
        "\n",
        "X_train.shape, X_test.shape"
      ],
      "execution_count": 61,
      "outputs": [
        {
          "output_type": "execute_result",
          "data": {
            "text/plain": [
              "((800, 2), (200, 2))"
            ]
          },
          "metadata": {
            "tags": []
          },
          "execution_count": 61
        }
      ]
    },
    {
      "cell_type": "code",
      "metadata": {
        "colab": {
          "base_uri": "https://localhost:8080/"
        },
        "id": "HPqai0O3jzTN",
        "outputId": "db169276-912d-4ae5-c33d-dd55c4e4d988"
      },
      "source": [
        "# Recreate model to fit on training data and evaluate on testing data\n",
        "\n",
        "# Set random seed\n",
        "tf.random.set_seed(42)\n",
        "\n",
        "# Create model\n",
        "model_9 = tf.keras.Sequential([\n",
        "  tf.keras.layers.Dense(16, activation='relu'),\n",
        "  tf.keras.layers.Dense(4, activation='relu'),\n",
        "  tf.keras.layers.Dense(1, activation='sigmoid')\n",
        "\n",
        "])\n",
        "\n",
        "# Compile model\n",
        "model_9.compile(loss='binary_crossentropy',\n",
        "                optimizer=tf.keras.optimizers.Adam(learning_rate=0.01),\n",
        "                metrics=['accuracy'])\n",
        "\n",
        "# Fit model\n",
        "history = model_9.fit(X,y,epochs=25)"
      ],
      "execution_count": 67,
      "outputs": [
        {
          "output_type": "stream",
          "text": [
            "Epoch 1/25\n",
            "32/32 [==============================] - 0s 1ms/step - loss: 0.6920 - accuracy: 0.5080\n",
            "Epoch 2/25\n",
            "32/32 [==============================] - 0s 1ms/step - loss: 0.6738 - accuracy: 0.5690\n",
            "Epoch 3/25\n",
            "32/32 [==============================] - 0s 1ms/step - loss: 0.6514 - accuracy: 0.6690\n",
            "Epoch 4/25\n",
            "32/32 [==============================] - 0s 1ms/step - loss: 0.5999 - accuracy: 0.7440\n",
            "Epoch 5/25\n",
            "32/32 [==============================] - 0s 1ms/step - loss: 0.4885 - accuracy: 0.9110\n",
            "Epoch 6/25\n",
            "32/32 [==============================] - 0s 1ms/step - loss: 0.3391 - accuracy: 0.9680\n",
            "Epoch 7/25\n",
            "32/32 [==============================] - 0s 1ms/step - loss: 0.2151 - accuracy: 0.9860\n",
            "Epoch 8/25\n",
            "32/32 [==============================] - 0s 1ms/step - loss: 0.1255 - accuracy: 0.9940\n",
            "Epoch 9/25\n",
            "32/32 [==============================] - 0s 2ms/step - loss: 0.0839 - accuracy: 0.9990\n",
            "Epoch 10/25\n",
            "32/32 [==============================] - 0s 2ms/step - loss: 0.0598 - accuracy: 1.0000\n",
            "Epoch 11/25\n",
            "32/32 [==============================] - 0s 1ms/step - loss: 0.0477 - accuracy: 0.9980\n",
            "Epoch 12/25\n",
            "32/32 [==============================] - 0s 1ms/step - loss: 0.0337 - accuracy: 1.0000\n",
            "Epoch 13/25\n",
            "32/32 [==============================] - 0s 2ms/step - loss: 0.0290 - accuracy: 0.9990\n",
            "Epoch 14/25\n",
            "32/32 [==============================] - 0s 1ms/step - loss: 0.0264 - accuracy: 0.9990\n",
            "Epoch 15/25\n",
            "32/32 [==============================] - 0s 1ms/step - loss: 0.0228 - accuracy: 0.9980\n",
            "Epoch 16/25\n",
            "32/32 [==============================] - 0s 1ms/step - loss: 0.0182 - accuracy: 1.0000\n",
            "Epoch 17/25\n",
            "32/32 [==============================] - 0s 1ms/step - loss: 0.0156 - accuracy: 1.0000\n",
            "Epoch 18/25\n",
            "32/32 [==============================] - 0s 1ms/step - loss: 0.0143 - accuracy: 0.9990\n",
            "Epoch 19/25\n",
            "32/32 [==============================] - 0s 1ms/step - loss: 0.0132 - accuracy: 1.0000\n",
            "Epoch 20/25\n",
            "32/32 [==============================] - 0s 1ms/step - loss: 0.0110 - accuracy: 1.0000\n",
            "Epoch 21/25\n",
            "32/32 [==============================] - 0s 1ms/step - loss: 0.0110 - accuracy: 1.0000\n",
            "Epoch 22/25\n",
            "32/32 [==============================] - 0s 1ms/step - loss: 0.0089 - accuracy: 1.0000\n",
            "Epoch 23/25\n",
            "32/32 [==============================] - 0s 1ms/step - loss: 0.0093 - accuracy: 1.0000\n",
            "Epoch 24/25\n",
            "32/32 [==============================] - 0s 1ms/step - loss: 0.0104 - accuracy: 0.9990\n",
            "Epoch 25/25\n",
            "32/32 [==============================] - 0s 1ms/step - loss: 0.0089 - accuracy: 1.0000\n"
          ],
          "name": "stdout"
        }
      ]
    },
    {
      "cell_type": "code",
      "metadata": {
        "colab": {
          "base_uri": "https://localhost:8080/"
        },
        "id": "O6Pin0uGl16V",
        "outputId": "79c1b00d-8166-4327-f978-c840733b78f0"
      },
      "source": [
        "# Evaluate on test dataset\n",
        "model_9.evaluate(X_test, y_test)"
      ],
      "execution_count": 70,
      "outputs": [
        {
          "output_type": "stream",
          "text": [
            "7/7 [==============================] - 0s 2ms/step - loss: 0.0054 - accuracy: 1.0000\n"
          ],
          "name": "stdout"
        },
        {
          "output_type": "execute_result",
          "data": {
            "text/plain": [
              "[0.0053567648865282536, 1.0]"
            ]
          },
          "metadata": {
            "tags": []
          },
          "execution_count": 70
        }
      ]
    },
    {
      "cell_type": "code",
      "metadata": {
        "colab": {
          "base_uri": "https://localhost:8080/",
          "height": 464
        },
        "id": "oZELKgRTmA09",
        "outputId": "ad3f82b1-1244-4ae4-d6c4-c53ba09ab687"
      },
      "source": [
        "# Visualize predictions\n",
        "plt.figure(figsize=(12,6))\n",
        "plt.subplot(1,2,1)\n",
        "plt.title('Train')\n",
        "plot_decision_boundary(model_9, X=X_train, y=y_train)\n",
        "plt.subplot(1, 2, 2)\n",
        "plt.title('Test')\n",
        "plot_decision_boundary(model_9, X=X_test, y=y_test)\n",
        "plt.show()"
      ],
      "execution_count": 69,
      "outputs": [
        {
          "output_type": "stream",
          "text": [
            "Doing binary classification\n",
            "\n",
            "Doing binary classification\n",
            "\n"
          ],
          "name": "stdout"
        },
        {
          "output_type": "display_data",
          "data": {
            "image/png": "[encoded data removed]",
            "text/plain": [
              "<Figure size 864x432 with 2 Axes>"
            ]
          },
          "metadata": {
            "tags": [],
            "needs_background": "light"
          }
        }
      ]
    },
    {
      "cell_type": "markdown",
      "metadata": {
        "id": "d_6O1UzGmv-l"
      },
      "source": [
        "## Plotting loss curves"
      ]
    },
    {
      "cell_type": "code",
      "metadata": {
        "colab": {
          "base_uri": "https://localhost:8080/"
        },
        "id": "yFOu1kp6odeE",
        "outputId": "211f5aec-4ecd-49ed-8016-cc5113435c5b"
      },
      "source": [
        "history.history['accuracy'][:5]"
      ],
      "execution_count": 73,
      "outputs": [
        {
          "output_type": "execute_result",
          "data": {
            "text/plain": [
              "[0.5080000162124634,\n",
              " 0.5690000057220459,\n",
              " 0.6690000295639038,\n",
              " 0.7440000176429749,\n",
              " 0.9110000133514404]"
            ]
          },
          "metadata": {
            "tags": []
          },
          "execution_count": 73
        }
      ]
    },
    {
      "cell_type": "code",
      "metadata": {
        "colab": {
          "base_uri": "https://localhost:8080/",
          "height": 206
        },
        "id": "hqyZR39UoqoU",
        "outputId": "7db6e628-a4aa-47e6-dc62-d3aa2219d1ad"
      },
      "source": [
        "# Convert history object into DataFrame\n",
        "pd.DataFrame(history.history).head()"
      ],
      "execution_count": 75,
      "outputs": [
        {
          "output_type": "execute_result",
          "data": {
            "text/html": [
              "<div>\n",
              "<style scoped>\n",
              "    .dataframe tbody tr th:only-of-type {\n",
              "        vertical-align: middle;\n",
              "    }\n",
              "\n",
              "    .dataframe tbody tr th {\n",
              "        vertical-align: top;\n",
              "    }\n",
              "\n",
              "    .dataframe thead th {\n",
              "        text-align: right;\n",
              "    }\n",
              "</style>\n",
              "<table border=\"1\" class=\"dataframe\">\n",
              "  <thead>\n",
              "    <tr style=\"text-align: right;\">\n",
              "      <th></th>\n",
              "      <th>loss</th>\n",
              "      <th>accuracy</th>\n",
              "    </tr>\n",
              "  </thead>\n",
              "  <tbody>\n",
              "    <tr>\n",
              "      <th>0</th>\n",
              "      <td>0.691963</td>\n",
              "      <td>0.508</td>\n",
              "    </tr>\n",
              "    <tr>\n",
              "      <th>1</th>\n",
              "      <td>0.673803</td>\n",
              "      <td>0.569</td>\n",
              "    </tr>\n",
              "    <tr>\n",
              "      <th>2</th>\n",
              "      <td>0.651403</td>\n",
              "      <td>0.669</td>\n",
              "    </tr>\n",
              "    <tr>\n",
              "      <th>3</th>\n",
              "      <td>0.599928</td>\n",
              "      <td>0.744</td>\n",
              "    </tr>\n",
              "    <tr>\n",
              "      <th>4</th>\n",
              "      <td>0.488470</td>\n",
              "      <td>0.911</td>\n",
              "    </tr>\n",
              "  </tbody>\n",
              "</table>\n",
              "</div>"
            ],
            "text/plain": [
              "       loss  accuracy\n",
              "0  0.691963     0.508\n",
              "1  0.673803     0.569\n",
              "2  0.651403     0.669\n",
              "3  0.599928     0.744\n",
              "4  0.488470     0.911"
            ]
          },
          "metadata": {
            "tags": []
          },
          "execution_count": 75
        }
      ]
    },
    {
      "cell_type": "code",
      "metadata": {
        "colab": {
          "base_uri": "https://localhost:8080/",
          "height": 281
        },
        "id": "XyVOucIKpB1F",
        "outputId": "0f497c31-742d-44ef-a1bc-72c445ca3331"
      },
      "source": [
        "# Plot loss curves\n",
        "pd.DataFrame(history.history).plot()\n",
        "plt.title('model_9 loss curves');"
      ],
      "execution_count": 76,
      "outputs": [
        {
          "output_type": "display_data",
          "data": {
            "image/png": "[encoded data removed]",
            "text/plain": [
              "<Figure size 432x288 with 1 Axes>"
            ]
          },
          "metadata": {
            "tags": [],
            "needs_background": "light"
          }
        }
      ]
    },
    {
      "cell_type": "markdown",
      "metadata": {
        "id": "tQjXQ-BxpVD1"
      },
      "source": [
        "**Note**: For many problems, the loss function decreasing means the model is improving (the prediction's it's making are getting closer to the ground truth labels.)"
      ]
    },
    {
      "cell_type": "code",
      "metadata": {
        "id": "NZ0i0BTxpqyW"
      },
      "source": [
        ""
      ],
      "execution_count": null,
      "outputs": []
    }
  ]
}